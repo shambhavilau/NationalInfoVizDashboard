{
 "cells": [
  {
   "cell_type": "code",
   "execution_count": 28,
   "metadata": {},
   "outputs": [],
   "source": [
    "import pandas as pd\n",
    "import numpy as np\n",
    "import matplotlib.pyplot as plt\n",
    "%matplotlib inline\n",
    "import seaborn as sns"
   ]
  },
  {
   "cell_type": "code",
   "execution_count": 29,
   "metadata": {},
   "outputs": [
    {
     "data": {
      "text/html": [
       "<div>\n",
       "<style scoped>\n",
       "    .dataframe tbody tr th:only-of-type {\n",
       "        vertical-align: middle;\n",
       "    }\n",
       "\n",
       "    .dataframe tbody tr th {\n",
       "        vertical-align: top;\n",
       "    }\n",
       "\n",
       "    .dataframe thead th {\n",
       "        text-align: right;\n",
       "    }\n",
       "</style>\n",
       "<table border=\"1\" class=\"dataframe\">\n",
       "  <thead>\n",
       "    <tr style=\"text-align: right;\">\n",
       "      <th></th>\n",
       "      <th>State/UT</th>\n",
       "      <th>IPC Crimes - 2019</th>\n",
       "      <th>IPC Crimes - 2020</th>\n",
       "      <th>IPC Crimes - 2021</th>\n",
       "      <th>Mid-Year Projected Population (in Lakhs)\\n(2021)</th>\n",
       "      <th>Rate of Cognizable Crimes (IPC) (2021)</th>\n",
       "      <th>Chargesheeting Rate (2021)</th>\n",
       "    </tr>\n",
       "  </thead>\n",
       "  <tbody>\n",
       "    <tr>\n",
       "      <th>0</th>\n",
       "      <td>Andhra Pradesh</td>\n",
       "      <td>119229</td>\n",
       "      <td>188997</td>\n",
       "      <td>179611</td>\n",
       "      <td>528.5</td>\n",
       "      <td>339.9</td>\n",
       "      <td>92.9</td>\n",
       "    </tr>\n",
       "    <tr>\n",
       "      <th>1</th>\n",
       "      <td>Arunachal Pradesh</td>\n",
       "      <td>2590</td>\n",
       "      <td>2244</td>\n",
       "      <td>2626</td>\n",
       "      <td>15.4</td>\n",
       "      <td>170.9</td>\n",
       "      <td>51.7</td>\n",
       "    </tr>\n",
       "    <tr>\n",
       "      <th>2</th>\n",
       "      <td>Assam</td>\n",
       "      <td>123512</td>\n",
       "      <td>111558</td>\n",
       "      <td>119883</td>\n",
       "      <td>351.6</td>\n",
       "      <td>341.0</td>\n",
       "      <td>38.2</td>\n",
       "    </tr>\n",
       "    <tr>\n",
       "      <th>3</th>\n",
       "      <td>Bihar</td>\n",
       "      <td>197935</td>\n",
       "      <td>194698</td>\n",
       "      <td>186006</td>\n",
       "      <td>1237.0</td>\n",
       "      <td>150.4</td>\n",
       "      <td>70.5</td>\n",
       "    </tr>\n",
       "    <tr>\n",
       "      <th>4</th>\n",
       "      <td>Chhattisgarh</td>\n",
       "      <td>61256</td>\n",
       "      <td>65216</td>\n",
       "      <td>70519</td>\n",
       "      <td>296.1</td>\n",
       "      <td>238.2</td>\n",
       "      <td>80.2</td>\n",
       "    </tr>\n",
       "  </tbody>\n",
       "</table>\n",
       "</div>"
      ],
      "text/plain": [
       "            State/UT  IPC Crimes - 2019  IPC Crimes - 2020  IPC Crimes - 2021  \\\n",
       "0     Andhra Pradesh             119229             188997             179611   \n",
       "1  Arunachal Pradesh               2590               2244               2626   \n",
       "2              Assam             123512             111558             119883   \n",
       "3              Bihar             197935             194698             186006   \n",
       "4       Chhattisgarh              61256              65216              70519   \n",
       "\n",
       "   Mid-Year Projected Population (in Lakhs)\\n(2021)  \\\n",
       "0                                             528.5   \n",
       "1                                              15.4   \n",
       "2                                             351.6   \n",
       "3                                            1237.0   \n",
       "4                                             296.1   \n",
       "\n",
       "   Rate of Cognizable Crimes (IPC) (2021)  Chargesheeting Rate (2021)  \n",
       "0                                   339.9                        92.9  \n",
       "1                                   170.9                        51.7  \n",
       "2                                   341.0                        38.2  \n",
       "3                                   150.4                        70.5  \n",
       "4                                   238.2                        80.2  "
      ]
     },
     "execution_count": 29,
     "metadata": {},
     "output_type": "execute_result"
    }
   ],
   "source": [
    "data = pd.read_excel(\"2019-2021 statewise crime rate.xlsx\")\n",
    "data.head()"
   ]
  },
  {
   "cell_type": "code",
   "execution_count": 30,
   "metadata": {},
   "outputs": [
    {
     "name": "stdout",
     "output_type": "stream",
     "text": [
      "<class 'pandas.core.frame.DataFrame'>\n",
      "RangeIndex: 39 entries, 0 to 38\n",
      "Data columns (total 7 columns):\n",
      " #   Column                                           Non-Null Count  Dtype  \n",
      "---  ------                                           --------------  -----  \n",
      " 0   State/UT                                         39 non-null     object \n",
      " 1   IPC Crimes - 2019                                39 non-null     int64  \n",
      " 2   IPC Crimes - 2020                                39 non-null     int64  \n",
      " 3   IPC Crimes - 2021                                39 non-null     int64  \n",
      " 4   Mid-Year Projected Population (in Lakhs)\n",
      "(2021)  39 non-null     float64\n",
      " 5   Rate of Cognizable Crimes (IPC) (2021)           39 non-null     float64\n",
      " 6   Chargesheeting Rate (2021)                       39 non-null     float64\n",
      "dtypes: float64(3), int64(3), object(1)\n",
      "memory usage: 2.3+ KB\n"
     ]
    }
   ],
   "source": [
    "data.info()"
   ]
  },
  {
   "cell_type": "code",
   "execution_count": 31,
   "metadata": {},
   "outputs": [
    {
     "data": {
      "text/plain": [
       "State/UT                                            0\n",
       "IPC Crimes - 2019                                   0\n",
       "IPC Crimes - 2020                                   0\n",
       "IPC Crimes - 2021                                   0\n",
       "Mid-Year Projected Population (in Lakhs)\\n(2021)    0\n",
       "Rate of Cognizable Crimes (IPC) (2021)              0\n",
       "Chargesheeting Rate (2021)                          0\n",
       "dtype: int64"
      ]
     },
     "execution_count": 31,
     "metadata": {},
     "output_type": "execute_result"
    }
   ],
   "source": [
    "data.isna().sum()"
   ]
  },
  {
   "cell_type": "code",
   "execution_count": 32,
   "metadata": {},
   "outputs": [],
   "source": [
    "data[\"IPC Crimes - 2019\"] = pd.to_numeric(data[\"IPC Crimes - 2019\"])"
   ]
  },
  {
   "cell_type": "code",
   "execution_count": 33,
   "metadata": {},
   "outputs": [
    {
     "name": "stdout",
     "output_type": "stream",
     "text": [
      "<class 'pandas.core.frame.DataFrame'>\n",
      "RangeIndex: 39 entries, 0 to 38\n",
      "Data columns (total 7 columns):\n",
      " #   Column                                           Non-Null Count  Dtype  \n",
      "---  ------                                           --------------  -----  \n",
      " 0   State/UT                                         39 non-null     object \n",
      " 1   IPC Crimes - 2019                                39 non-null     int64  \n",
      " 2   IPC Crimes - 2020                                39 non-null     int64  \n",
      " 3   IPC Crimes - 2021                                39 non-null     int64  \n",
      " 4   Mid-Year Projected Population (in Lakhs)\n",
      "(2021)  39 non-null     float64\n",
      " 5   Rate of Cognizable Crimes (IPC) (2021)           39 non-null     float64\n",
      " 6   Chargesheeting Rate (2021)                       39 non-null     float64\n",
      "dtypes: float64(3), int64(3), object(1)\n",
      "memory usage: 2.3+ KB\n"
     ]
    }
   ],
   "source": [
    "data.info()"
   ]
  },
  {
   "cell_type": "code",
   "execution_count": 34,
   "metadata": {},
   "outputs": [
    {
     "data": {
      "text/plain": [
       "<Axes: >"
      ]
     },
     "execution_count": 34,
     "metadata": {},
     "output_type": "execute_result"
    },
    {
     "data": {
      "image/png": "[encoded data removed]",
      "text/plain": [
       "<Figure size 864x432 with 1 Axes>"
      ]
     },
     "metadata": {
      "needs_background": "light"
     },
     "output_type": "display_data"
    }
   ],
   "source": [
    "data.plot(figsize=(12,6))"
   ]
  },
  {
   "cell_type": "code",
   "execution_count": 35,
   "metadata": {},
   "outputs": [
    {
     "data": {
      "image/png": "[encoded data removed]",
      "text/plain": [
       "<Figure size 1080x720 with 2 Axes>"
      ]
     },
     "metadata": {
      "needs_background": "light"
     },
     "output_type": "display_data"
    }
   ],
   "source": [
    "corr_matrix = data.corr()\n",
    "fig, ax = plt.subplots(figsize=(15,10))\n",
    "ax = sns.heatmap(corr_matrix,\n",
    "                annot=True,\n",
    "                linewidths=0.5,\n",
    "                fmt=\".2f\",\n",
    "                cmap=\"YlGnBu\");"
   ]
  },
  {
   "cell_type": "code",
   "execution_count": 36,
   "metadata": {},
   "outputs": [
    {
     "data": {
      "text/plain": [
       "True"
      ]
     },
     "execution_count": 36,
     "metadata": {},
     "output_type": "execute_result"
    }
   ],
   "source": [
    "pd.api.types.is_string_dtype(data[\"State/UT\"])\n"
   ]
  },
  {
   "cell_type": "code",
   "execution_count": 37,
   "metadata": {},
   "outputs": [
    {
     "name": "stdout",
     "output_type": "stream",
     "text": [
      "State/UT\n"
     ]
    }
   ],
   "source": [
    "# Find the columns which contain strings\n",
    "# data_temp.items() treats the data like dict where keys are col names and values are the values corresponding to each key\n",
    "for label, content in data.items():\n",
    "    if pd.api.types.is_string_dtype(content):\n",
    "        print(label)"
   ]
  },
  {
   "cell_type": "code",
   "execution_count": 38,
   "metadata": {},
   "outputs": [],
   "source": [
    "# This will convert all strings to category\n",
    "for label, content in data.items():\n",
    "    if pd.api.types.is_string_dtype(content):\n",
    "        data[label] = content.astype(\"category\").cat.as_ordered()    # assigns a numeric value to each category"
   ]
  },
  {
   "cell_type": "code",
   "execution_count": 39,
   "metadata": {},
   "outputs": [
    {
     "data": {
      "text/plain": [
       "Index(['Andaman & Nicobar Islands', 'Andhra Pradesh', 'Arunachal Pradesh',\n",
       "       'Assam', 'Bihar', 'Chandigarh', 'Chhattisgarh',\n",
       "       'D&N Haveli and\\nDaman & Diu+', 'Delhi', 'Goa', 'Gujarat', 'Haryana',\n",
       "       'Himachal Pradesh', 'Jammu & Kashmir*', 'Jharkhand', 'Karnataka',\n",
       "       'Kerala', 'Ladakh @', 'Lakshadweep', 'Madhya Pradesh', 'Maharashtra',\n",
       "       'Manipur', 'Meghalaya', 'Mizoram', 'Nagaland', 'Odisha', 'Puducherry',\n",
       "       'Punjab', 'Rajasthan', 'Sikkim', 'Tamil Nadu', 'Telangana',\n",
       "       'Total (States)', 'Total All India', 'Total UT(S)', 'Tripura',\n",
       "       'Uttar Pradesh', 'Uttarakhand', 'West Bengal'],\n",
       "      dtype='object')"
      ]
     },
     "execution_count": 39,
     "metadata": {},
     "output_type": "execute_result"
    }
   ],
   "source": [
    "data[\"State/UT\"].cat.categories"
   ]
  },
  {
   "cell_type": "code",
   "execution_count": 40,
   "metadata": {},
   "outputs": [],
   "source": [
    "data['StateCodes'] = data[\"State/UT\"].cat.codes"
   ]
  },
  {
   "cell_type": "code",
   "execution_count": 41,
   "metadata": {},
   "outputs": [],
   "source": [
    "X = data.drop(columns=[\"IPC Crimes - 2021\",\"State/UT\"],axis=1)\n",
    "y = data[\"IPC Crimes - 2021\"]"
   ]
  },
  {
   "cell_type": "code",
   "execution_count": 42,
   "metadata": {},
   "outputs": [
    {
     "data": {
      "text/html": [
       "<div>\n",
       "<style scoped>\n",
       "    .dataframe tbody tr th:only-of-type {\n",
       "        vertical-align: middle;\n",
       "    }\n",
       "\n",
       "    .dataframe tbody tr th {\n",
       "        vertical-align: top;\n",
       "    }\n",
       "\n",
       "    .dataframe thead th {\n",
       "        text-align: right;\n",
       "    }\n",
       "</style>\n",
       "<table border=\"1\" class=\"dataframe\">\n",
       "  <thead>\n",
       "    <tr style=\"text-align: right;\">\n",
       "      <th></th>\n",
       "      <th>IPC Crimes - 2019</th>\n",
       "      <th>IPC Crimes - 2020</th>\n",
       "      <th>Mid-Year Projected Population (in Lakhs)\\n(2021)</th>\n",
       "      <th>Rate of Cognizable Crimes (IPC) (2021)</th>\n",
       "      <th>Chargesheeting Rate (2021)</th>\n",
       "      <th>StateCodes</th>\n",
       "    </tr>\n",
       "  </thead>\n",
       "  <tbody>\n",
       "    <tr>\n",
       "      <th>0</th>\n",
       "      <td>119229</td>\n",
       "      <td>188997</td>\n",
       "      <td>528.5</td>\n",
       "      <td>339.9</td>\n",
       "      <td>92.9</td>\n",
       "      <td>1</td>\n",
       "    </tr>\n",
       "    <tr>\n",
       "      <th>1</th>\n",
       "      <td>2590</td>\n",
       "      <td>2244</td>\n",
       "      <td>15.4</td>\n",
       "      <td>170.9</td>\n",
       "      <td>51.7</td>\n",
       "      <td>2</td>\n",
       "    </tr>\n",
       "    <tr>\n",
       "      <th>2</th>\n",
       "      <td>123512</td>\n",
       "      <td>111558</td>\n",
       "      <td>351.6</td>\n",
       "      <td>341.0</td>\n",
       "      <td>38.2</td>\n",
       "      <td>3</td>\n",
       "    </tr>\n",
       "    <tr>\n",
       "      <th>3</th>\n",
       "      <td>197935</td>\n",
       "      <td>194698</td>\n",
       "      <td>1237.0</td>\n",
       "      <td>150.4</td>\n",
       "      <td>70.5</td>\n",
       "      <td>4</td>\n",
       "    </tr>\n",
       "    <tr>\n",
       "      <th>4</th>\n",
       "      <td>61256</td>\n",
       "      <td>65216</td>\n",
       "      <td>296.1</td>\n",
       "      <td>238.2</td>\n",
       "      <td>80.2</td>\n",
       "      <td>6</td>\n",
       "    </tr>\n",
       "  </tbody>\n",
       "</table>\n",
       "</div>"
      ],
      "text/plain": [
       "   IPC Crimes - 2019  IPC Crimes - 2020  \\\n",
       "0             119229             188997   \n",
       "1               2590               2244   \n",
       "2             123512             111558   \n",
       "3             197935             194698   \n",
       "4              61256              65216   \n",
       "\n",
       "   Mid-Year Projected Population (in Lakhs)\\n(2021)  \\\n",
       "0                                             528.5   \n",
       "1                                              15.4   \n",
       "2                                             351.6   \n",
       "3                                            1237.0   \n",
       "4                                             296.1   \n",
       "\n",
       "   Rate of Cognizable Crimes (IPC) (2021)  Chargesheeting Rate (2021)  \\\n",
       "0                                   339.9                        92.9   \n",
       "1                                   170.9                        51.7   \n",
       "2                                   341.0                        38.2   \n",
       "3                                   150.4                        70.5   \n",
       "4                                   238.2                        80.2   \n",
       "\n",
       "   StateCodes  \n",
       "0           1  \n",
       "1           2  \n",
       "2           3  \n",
       "3           4  \n",
       "4           6  "
      ]
     },
     "execution_count": 42,
     "metadata": {},
     "output_type": "execute_result"
    }
   ],
   "source": [
    "X.head()"
   ]
  },
  {
   "cell_type": "code",
   "execution_count": 43,
   "metadata": {},
   "outputs": [
    {
     "data": {
      "text/plain": [
       "0    179611\n",
       "1      2626\n",
       "2    119883\n",
       "3    186006\n",
       "4     70519\n",
       "Name: IPC Crimes - 2021, dtype: int64"
      ]
     },
     "execution_count": 43,
     "metadata": {},
     "output_type": "execute_result"
    }
   ],
   "source": [
    "y.head()"
   ]
  },
  {
   "cell_type": "code",
   "execution_count": 50,
   "metadata": {},
   "outputs": [],
   "source": [
    "from sklearn.model_selection import train_test_split\n",
    "X_train, X_test, y_train, y_test = train_test_split(X, y, test_size=0.2, random_state=42)"
   ]
  },
  {
   "attachments": {},
   "cell_type": "markdown",
   "metadata": {},
   "source": [
    "#### Random Forest regression"
   ]
  },
  {
   "cell_type": "code",
   "execution_count": 51,
   "metadata": {},
   "outputs": [
    {
     "data": {
      "text/plain": [
       "0.9658950267554659"
      ]
     },
     "execution_count": 51,
     "metadata": {},
     "output_type": "execute_result"
    }
   ],
   "source": [
    "from sklearn.ensemble import RandomForestRegressor\n",
    "model1 = RandomForestRegressor(n_jobs=-1, random_state=42)\n",
    "model1.fit(X_train,y_train)\n",
    "model1.score(X_test,y_test)"
   ]
  },
  {
   "attachments": {},
   "cell_type": "markdown",
   "metadata": {},
   "source": [
    "#### Linear Regression"
   ]
  },
  {
   "cell_type": "code",
   "execution_count": 52,
   "metadata": {},
   "outputs": [
    {
     "data": {
      "text/plain": [
       "0.9644605351508635"
      ]
     },
     "execution_count": 52,
     "metadata": {},
     "output_type": "execute_result"
    }
   ],
   "source": [
    "from sklearn.linear_model import LinearRegression\n",
    "model2 = LinearRegression()\n",
    "model2.fit(X_train,y_train)\n",
    "model2.score(X_test,y_test)"
   ]
  },
  {
   "attachments": {},
   "cell_type": "markdown",
   "metadata": {},
   "source": [
    "#### Gradient Boosting"
   ]
  },
  {
   "cell_type": "code",
   "execution_count": 53,
   "metadata": {},
   "outputs": [
    {
     "data": {
      "text/plain": [
       "0.9662450492952064"
      ]
     },
     "execution_count": 53,
     "metadata": {},
     "output_type": "execute_result"
    }
   ],
   "source": [
    "from sklearn.ensemble import GradientBoostingRegressor\n",
    "model3 = GradientBoostingRegressor(random_state=42)\n",
    "model3.fit(X_train,y_train)\n",
    "model3.score(X_test,y_test)"
   ]
  },
  {
   "attachments": {},
   "cell_type": "markdown",
   "metadata": {},
   "source": [
    "#### Ridge Regression"
   ]
  },
  {
   "cell_type": "code",
   "execution_count": 54,
   "metadata": {},
   "outputs": [
    {
     "data": {
      "text/plain": [
       "0.9644598569568248"
      ]
     },
     "execution_count": 54,
     "metadata": {},
     "output_type": "execute_result"
    }
   ],
   "source": [
    "from sklearn.linear_model import Ridge\n",
    "\n",
    "model4 = Ridge(random_state=42)\n",
    "model4.fit(X_train,y_train)\n",
    "model4.score(X_test,y_test)"
   ]
  },
  {
   "attachments": {},
   "cell_type": "markdown",
   "metadata": {},
   "source": [
    "#### XG Boost"
   ]
  },
  {
   "cell_type": "code",
   "execution_count": 55,
   "metadata": {},
   "outputs": [
    {
     "name": "stdout",
     "output_type": "stream",
     "text": [
      "[11:40:32] WARNING: C:/buildkite-agent/builds/buildkite-windows-cpu-autoscaling-group-i-08de971ced8a8cdc6-1/xgboost/xgboost-ci-windows/src/objective/regression_obj.cu:213: reg:linear is now deprecated in favor of reg:squarederror.\n"
     ]
    },
    {
     "data": {
      "text/plain": [
       "-1.7676224422972466"
      ]
     },
     "execution_count": 55,
     "metadata": {},
     "output_type": "execute_result"
    }
   ],
   "source": [
    "import xgboost as xgb\n",
    "\n",
    "model5 = xgb.XGBRegressor(objective ='reg:linear', colsample_bytree = 0.3, learning_rate = 0.1,\n",
    "                max_depth = 5, alpha = 10, n_estimators = 10)\n",
    "model5.fit(X_train,y_train)\n",
    "model5.score(X_test,y_test)               "
   ]
  },
  {
   "cell_type": "code",
   "execution_count": 58,
   "metadata": {},
   "outputs": [
    {
     "data": {
      "text/html": [
       "<div>\n",
       "<style scoped>\n",
       "    .dataframe tbody tr th:only-of-type {\n",
       "        vertical-align: middle;\n",
       "    }\n",
       "\n",
       "    .dataframe tbody tr th {\n",
       "        vertical-align: top;\n",
       "    }\n",
       "\n",
       "    .dataframe thead th {\n",
       "        text-align: right;\n",
       "    }\n",
       "</style>\n",
       "<table border=\"1\" class=\"dataframe\">\n",
       "  <thead>\n",
       "    <tr style=\"text-align: right;\">\n",
       "      <th></th>\n",
       "      <th>Actual Crime Rate 2021</th>\n",
       "      <th>Predicted Crime Rate 2021</th>\n",
       "    </tr>\n",
       "  </thead>\n",
       "  <tbody>\n",
       "    <tr>\n",
       "      <th>0</th>\n",
       "      <td>179611</td>\n",
       "      <td>179440.582201</td>\n",
       "    </tr>\n",
       "    <tr>\n",
       "      <th>1</th>\n",
       "      <td>2626</td>\n",
       "      <td>2650.115880</td>\n",
       "    </tr>\n",
       "    <tr>\n",
       "      <th>2</th>\n",
       "      <td>119883</td>\n",
       "      <td>120079.251287</td>\n",
       "    </tr>\n",
       "    <tr>\n",
       "      <th>3</th>\n",
       "      <td>186006</td>\n",
       "      <td>186298.677415</td>\n",
       "    </tr>\n",
       "    <tr>\n",
       "      <th>4</th>\n",
       "      <td>70519</td>\n",
       "      <td>49759.159391</td>\n",
       "    </tr>\n",
       "    <tr>\n",
       "      <th>5</th>\n",
       "      <td>2099</td>\n",
       "      <td>2112.679365</td>\n",
       "    </tr>\n",
       "    <tr>\n",
       "      <th>6</th>\n",
       "      <td>273056</td>\n",
       "      <td>318790.627812</td>\n",
       "    </tr>\n",
       "    <tr>\n",
       "      <th>7</th>\n",
       "      <td>112720</td>\n",
       "      <td>112960.456203</td>\n",
       "    </tr>\n",
       "    <tr>\n",
       "      <th>8</th>\n",
       "      <td>13041</td>\n",
       "      <td>12662.420704</td>\n",
       "    </tr>\n",
       "    <tr>\n",
       "      <th>9</th>\n",
       "      <td>47684</td>\n",
       "      <td>47623.033503</td>\n",
       "    </tr>\n",
       "  </tbody>\n",
       "</table>\n",
       "</div>"
      ],
      "text/plain": [
       "   Actual Crime Rate 2021  Predicted Crime Rate 2021\n",
       "0                  179611              179440.582201\n",
       "1                    2626                2650.115880\n",
       "2                  119883              120079.251287\n",
       "3                  186006              186298.677415\n",
       "4                   70519               49759.159391\n",
       "5                    2099                2112.679365\n",
       "6                  273056              318790.627812\n",
       "7                  112720              112960.456203\n",
       "8                   13041               12662.420704\n",
       "9                   47684               47623.033503"
      ]
     },
     "execution_count": 58,
     "metadata": {},
     "output_type": "execute_result"
    }
   ],
   "source": [
    "y_preds_3 = model3.predict(X)\n",
    "scores_3 = pd.DataFrame(columns=[\"Actual Crime Rate 2021\",\"Predicted Crime Rate 2021\"])\n",
    "scores_3[\"Actual Crime Rate 2021\"] = y\n",
    "scores_3[\"Predicted Crime Rate 2021\"] = y_preds_3\n",
    "scores_3.head(10)\n"
   ]
  },
  {
   "cell_type": "code",
   "execution_count": 59,
   "metadata": {},
   "outputs": [
    {
     "data": {
      "text/plain": [
       "Text(0, 0.5, 'Crime Rate')"
      ]
     },
     "execution_count": 59,
     "metadata": {},
     "output_type": "execute_result"
    },
    {
     "data": {
      "image/png": "[encoded data removed]",
      "text/plain": [
       "<Figure size 432x288 with 1 Axes>"
      ]
     },
     "metadata": {
      "needs_background": "light"
     },
     "output_type": "display_data"
    }
   ],
   "source": [
    "plt.plot(scores_3[\"Actual Crime Rate 2021\"], label='actual')\n",
    "plt.plot(scores_3[\"Predicted Crime Rate 2021\"], label='predicted')\n",
    "plt.legend()\n",
    "plt.xlabel(\"State code\")\n",
    "plt.ylabel(\"Crime Rate\")"
   ]
  },
  {
   "cell_type": "code",
   "execution_count": null,
   "metadata": {},
   "outputs": [
    {
     "data": {
      "text/plain": [
       "(38418.61860899319, 0.9999999331893874, 153.98029146731898)"
      ]
     },
     "execution_count": 24,
     "metadata": {},
     "output_type": "execute_result"
    }
   ],
   "source": [
    "from sklearn.metrics import mean_squared_error\n",
    "from sklearn.metrics import mean_absolute_error\n",
    "from sklearn.metrics import r2_score\n",
    "mse= mean_squared_error(y, y_preds_3)\n",
    "rmse= r2_score(y, y_preds_3)\n",
    "mae = mean_absolute_error(y,y_preds_3)\n",
    "\n",
    "mse,rmse,mae"
   ]
  },
  {
   "cell_type": "code",
   "execution_count": null,
   "metadata": {},
   "outputs": [
    {
     "name": "stdout",
     "output_type": "stream",
     "text": [
      "matplotlib: 3.7.1\n"
     ]
    }
   ],
   "source": [
    "import matplotlib\n",
    "print('matplotlib: {}'.format(matplotlib.__version__))"
   ]
  },
  {
   "cell_type": "code",
   "execution_count": null,
   "metadata": {},
   "outputs": [
    {
     "data": {
      "image/png": "[encoded data removed]",
      "text/plain": [
       "<Figure size 720x432 with 1 Axes>"
      ]
     },
     "metadata": {
      "needs_background": "light"
     },
     "output_type": "display_data"
    }
   ],
   "source": [
    "model_score = {'Random Forest Regression':99.9999,\n",
    "                'Ridge Regression':99.9544,\n",
    "               'XG Boost':65.8142,\n",
    "               'Linear Regression':99.9544,\n",
    "               'Gradient Boosting':99.9133\n",
    "               }\n",
    "\n",
    "model_compare = pd.DataFrame(model_score, index=[\"Accuracy\"])\n",
    "ax = model_compare.T.plot.bar(color=\"blue\", figsize=(10,6));\n",
    "plt.bar_label(ax.containers[0])\n",
    "plt.xticks(rotation=0);\n"
   ]
  },
  {
   "cell_type": "code",
   "execution_count": null,
   "metadata": {},
   "outputs": [],
   "source": []
  }
 ],
 "metadata": {
  "kernelspec": {
   "display_name": "Jupyter_env",
   "language": "python",
   "name": "python3"
  },
  "language_info": {
   "codemirror_mode": {
    "name": "ipython",
    "version": 3
   },
   "file_extension": ".py",
   "mimetype": "text/x-python",
   "name": "python",
   "nbconvert_exporter": "python",
   "pygments_lexer": "ipython3",
   "version": "3.9.12"
  },
  "orig_nbformat": 4,
  "vscode": {
   "interpreter": {
    "hash": "0dd495e797824acd4492f82c8d1743fb17f150732e30bbe64fa3581afe1d0ef3"
   }
  }
 },
 "nbformat": 4,
 "nbformat_minor": 2
}
