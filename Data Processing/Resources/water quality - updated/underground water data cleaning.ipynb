{
 "cells": [
  {
   "cell_type": "code",
   "execution_count": 1,
   "metadata": {},
   "outputs": [],
   "source": [
    "import pandas as pd\n",
    "import numpy as np"
   ]
  },
  {
   "cell_type": "code",
   "execution_count": 197,
   "metadata": {},
   "outputs": [
    {
     "data": {
      "text/html": [
       "<div>\n",
       "<style scoped>\n",
       "    .dataframe tbody tr th:only-of-type {\n",
       "        vertical-align: middle;\n",
       "    }\n",
       "\n",
       "    .dataframe tbody tr th {\n",
       "        vertical-align: top;\n",
       "    }\n",
       "\n",
       "    .dataframe thead th {\n",
       "        text-align: right;\n",
       "    }\n",
       "</style>\n",
       "<table border=\"1\" class=\"dataframe\">\n",
       "  <thead>\n",
       "    <tr style=\"text-align: right;\">\n",
       "      <th></th>\n",
       "      <th>Year</th>\n",
       "      <th>Station Code</th>\n",
       "      <th>Station Name</th>\n",
       "      <th>State</th>\n",
       "      <th>Min Temperature</th>\n",
       "      <th>Max Temperature</th>\n",
       "      <th>Min pH</th>\n",
       "      <th>Max pH</th>\n",
       "      <th>Min Conductivity</th>\n",
       "      <th>Max Conductivity</th>\n",
       "      <th>Min BOD</th>\n",
       "      <th>Max BOD</th>\n",
       "      <th>Min NitrateN + NitriteN</th>\n",
       "      <th>Max NitrateN + NitriteN</th>\n",
       "      <th>Min Faecal Coli form</th>\n",
       "      <th>Max Faecal Coli form</th>\n",
       "      <th>Min Total Coli form</th>\n",
       "      <th>Max Total Coli form</th>\n",
       "    </tr>\n",
       "  </thead>\n",
       "  <tbody>\n",
       "    <tr>\n",
       "      <th>0</th>\n",
       "      <td>2016</td>\n",
       "      <td>26</td>\n",
       "      <td>WELL AT VIJAYWADA</td>\n",
       "      <td>ANDHRA PRADESH</td>\n",
       "      <td>22.0</td>\n",
       "      <td>26.0</td>\n",
       "      <td>7.51</td>\n",
       "      <td>8.03</td>\n",
       "      <td>960.0</td>\n",
       "      <td>1418.0</td>\n",
       "      <td>NaN</td>\n",
       "      <td>NaN</td>\n",
       "      <td>2.7</td>\n",
       "      <td>4.6</td>\n",
       "      <td>NaN</td>\n",
       "      <td>NaN</td>\n",
       "      <td>400.0</td>\n",
       "      <td>400.0</td>\n",
       "    </tr>\n",
       "    <tr>\n",
       "      <th>1</th>\n",
       "      <td>2016</td>\n",
       "      <td>1513</td>\n",
       "      <td>BORE WELL.  KRISHNA MURTHY, D.NO. 481643\\nAUTO...</td>\n",
       "      <td>ANDHRA PRADESH</td>\n",
       "      <td>23.0</td>\n",
       "      <td>26.0</td>\n",
       "      <td>7.70</td>\n",
       "      <td>8.00</td>\n",
       "      <td>1214.0</td>\n",
       "      <td>1260.0</td>\n",
       "      <td>NaN</td>\n",
       "      <td>NaN</td>\n",
       "      <td>0.0</td>\n",
       "      <td>1.9</td>\n",
       "      <td>NaN</td>\n",
       "      <td>NaN</td>\n",
       "      <td>400.0</td>\n",
       "      <td>400.0</td>\n",
       "    </tr>\n",
       "    <tr>\n",
       "      <th>2</th>\n",
       "      <td>2016</td>\n",
       "      <td>1514</td>\n",
       "      <td>BORE WELL  VIJAY KUMAR AUTONAGAR\\nVIJAYAWADA, ...</td>\n",
       "      <td>ANDHRA PRADESH</td>\n",
       "      <td>23.0</td>\n",
       "      <td>23.0</td>\n",
       "      <td>7.40</td>\n",
       "      <td>8.00</td>\n",
       "      <td>1010.0</td>\n",
       "      <td>1427.0</td>\n",
       "      <td>NaN</td>\n",
       "      <td>NaN</td>\n",
       "      <td>0.2</td>\n",
       "      <td>1.1</td>\n",
       "      <td>NaN</td>\n",
       "      <td>NaN</td>\n",
       "      <td>400.0</td>\n",
       "      <td>400.0</td>\n",
       "    </tr>\n",
       "    <tr>\n",
       "      <th>3</th>\n",
       "      <td>2016</td>\n",
       "      <td>1516</td>\n",
       "      <td>BORE WELL OF NAVLOK GARDENS NELLORE</td>\n",
       "      <td>ANDHRA PRADESH</td>\n",
       "      <td>NaN</td>\n",
       "      <td>NaN</td>\n",
       "      <td>8.50</td>\n",
       "      <td>8.60</td>\n",
       "      <td>557.0</td>\n",
       "      <td>670.0</td>\n",
       "      <td>NaN</td>\n",
       "      <td>NaN</td>\n",
       "      <td>0.5</td>\n",
       "      <td>0.6</td>\n",
       "      <td>NaN</td>\n",
       "      <td>NaN</td>\n",
       "      <td>400.0</td>\n",
       "      <td>400.0</td>\n",
       "    </tr>\n",
       "    <tr>\n",
       "      <th>4</th>\n",
       "      <td>2016</td>\n",
       "      <td>1517</td>\n",
       "      <td>BORE WELL.  TUNGBHADRA RIVER NEAR\\nKURNOOL</td>\n",
       "      <td>ANDHRA PRADESH</td>\n",
       "      <td>23.0</td>\n",
       "      <td>29.0</td>\n",
       "      <td>7.60</td>\n",
       "      <td>7.90</td>\n",
       "      <td>4060.0</td>\n",
       "      <td>4220.0</td>\n",
       "      <td>0.7</td>\n",
       "      <td>1.0</td>\n",
       "      <td>2.1</td>\n",
       "      <td>2.6</td>\n",
       "      <td>NaN</td>\n",
       "      <td>NaN</td>\n",
       "      <td>18.0</td>\n",
       "      <td>18.0</td>\n",
       "    </tr>\n",
       "  </tbody>\n",
       "</table>\n",
       "</div>"
      ],
      "text/plain": [
       "   Year  Station Code                                        Station Name  \\\n",
       "0  2016             26                                  WELL AT VIJAYWADA   \n",
       "1  2016           1513  BORE WELL.  KRISHNA MURTHY, D.NO. 481643\\nAUTO...   \n",
       "2  2016           1514  BORE WELL  VIJAY KUMAR AUTONAGAR\\nVIJAYAWADA, ...   \n",
       "3  2016           1516                BORE WELL OF NAVLOK GARDENS NELLORE   \n",
       "4  2016           1517         BORE WELL.  TUNGBHADRA RIVER NEAR\\nKURNOOL   \n",
       "\n",
       "            State  Min Temperature  Max Temperature  Min pH  Max pH  \\\n",
       "0  ANDHRA PRADESH             22.0             26.0    7.51    8.03   \n",
       "1  ANDHRA PRADESH             23.0             26.0    7.70    8.00   \n",
       "2  ANDHRA PRADESH             23.0             23.0    7.40    8.00   \n",
       "3  ANDHRA PRADESH              NaN              NaN    8.50    8.60   \n",
       "4  ANDHRA PRADESH             23.0             29.0    7.60    7.90   \n",
       "\n",
       "   Min Conductivity  Max Conductivity  Min BOD  Max BOD  \\\n",
       "0             960.0            1418.0      NaN      NaN   \n",
       "1            1214.0            1260.0      NaN      NaN   \n",
       "2            1010.0            1427.0      NaN      NaN   \n",
       "3             557.0             670.0      NaN      NaN   \n",
       "4            4060.0            4220.0      0.7      1.0   \n",
       "\n",
       "   Min NitrateN + NitriteN  Max NitrateN + NitriteN  Min Faecal Coli form  \\\n",
       "0                      2.7                      4.6                   NaN   \n",
       "1                      0.0                      1.9                   NaN   \n",
       "2                      0.2                      1.1                   NaN   \n",
       "3                      0.5                      0.6                   NaN   \n",
       "4                      2.1                      2.6                   NaN   \n",
       "\n",
       "   Max Faecal Coli form  Min Total Coli form  Max Total Coli form  \n",
       "0                   NaN                400.0                400.0  \n",
       "1                   NaN                400.0                400.0  \n",
       "2                   NaN                400.0                400.0  \n",
       "3                   NaN                400.0                400.0  \n",
       "4                   NaN                 18.0                 18.0  "
      ]
     },
     "execution_count": 197,
     "metadata": {},
     "output_type": "execute_result"
    }
   ],
   "source": [
    "data = pd.read_excel(\"UW Data All Years.xlsx\")\n",
    "data.head()"
   ]
  },
  {
   "cell_type": "code",
   "execution_count": 198,
   "metadata": {},
   "outputs": [
    {
     "name": "stdout",
     "output_type": "stream",
     "text": [
      "<class 'pandas.core.frame.DataFrame'>\n",
      "RangeIndex: 4103 entries, 0 to 4102\n",
      "Data columns (total 18 columns):\n",
      " #   Column                   Non-Null Count  Dtype  \n",
      "---  ------                   --------------  -----  \n",
      " 0   Year                     4103 non-null   int64  \n",
      " 1   Station Code             4103 non-null   int64  \n",
      " 2   Station Name             4103 non-null   object \n",
      " 3   State                    4103 non-null   object \n",
      " 4   Min Temperature          3771 non-null   float64\n",
      " 5   Max Temperature          3767 non-null   float64\n",
      " 6   Min pH                   4070 non-null   float64\n",
      " 7   Max pH                   4070 non-null   float64\n",
      " 8   Min Conductivity         4050 non-null   float64\n",
      " 9   Max Conductivity         4050 non-null   float64\n",
      " 10  Min BOD                  3185 non-null   float64\n",
      " 11  Max BOD                  3187 non-null   float64\n",
      " 12  Min NitrateN + NitriteN  3685 non-null   float64\n",
      " 13  Max NitrateN + NitriteN  3685 non-null   float64\n",
      " 14  Min Faecal Coli form     3092 non-null   float64\n",
      " 15  Max Faecal Coli form     3092 non-null   float64\n",
      " 16  Min Total Coli form      3364 non-null   float64\n",
      " 17  Max Total Coli form      3364 non-null   float64\n",
      "dtypes: float64(14), int64(2), object(2)\n",
      "memory usage: 577.1+ KB\n"
     ]
    }
   ],
   "source": [
    "data .info()"
   ]
  },
  {
   "cell_type": "code",
   "execution_count": 199,
   "metadata": {},
   "outputs": [
    {
     "data": {
      "text/plain": [
       "Year                          0\n",
       "Station Code                  0\n",
       "Station Name                  0\n",
       "State                         0\n",
       "Min Temperature             332\n",
       "Max Temperature             336\n",
       "Min pH                       33\n",
       "Max pH                       33\n",
       "Min Conductivity             53\n",
       "Max Conductivity             53\n",
       "Min BOD                     918\n",
       "Max BOD                     916\n",
       "Min NitrateN + NitriteN     418\n",
       "Max NitrateN + NitriteN     418\n",
       "Min Faecal Coli form       1011\n",
       "Max Faecal Coli form       1011\n",
       "Min Total Coli form         739\n",
       "Max Total Coli form         739\n",
       "dtype: int64"
      ]
     },
     "execution_count": 199,
     "metadata": {},
     "output_type": "execute_result"
    }
   ],
   "source": [
    "data.isnull().sum()"
   ]
  },
  {
   "cell_type": "code",
   "execution_count": 200,
   "metadata": {},
   "outputs": [],
   "source": [
    "data[\"Min Temperature\"] = pd.to_numeric(data[\"Min Temperature\"])"
   ]
  },
  {
   "cell_type": "code",
   "execution_count": 201,
   "metadata": {},
   "outputs": [
    {
     "data": {
      "text/plain": [
       "0"
      ]
     },
     "execution_count": 201,
     "metadata": {},
     "output_type": "execute_result"
    }
   ],
   "source": [
    "data['Min Temperature'] = data['Min Temperature'].fillna(data['Min Temperature'].median())\n",
    "data['Min Temperature'].isnull().sum()"
   ]
  },
  {
   "cell_type": "code",
   "execution_count": 202,
   "metadata": {},
   "outputs": [
    {
     "data": {
      "text/plain": [
       "0"
      ]
     },
     "execution_count": 202,
     "metadata": {},
     "output_type": "execute_result"
    }
   ],
   "source": [
    "data[\"Max Temperature\"] = pd.to_numeric(data[\"Max Temperature\"])\n",
    "data['Max Temperature'] = data['Max Temperature'].fillna(data['Max Temperature'].median())\n",
    "data['Max Temperature'].isnull().sum()"
   ]
  },
  {
   "cell_type": "code",
   "execution_count": 203,
   "metadata": {},
   "outputs": [
    {
     "data": {
      "text/plain": [
       "0"
      ]
     },
     "execution_count": 203,
     "metadata": {},
     "output_type": "execute_result"
    }
   ],
   "source": [
    "data[\"Min pH\"] = pd.to_numeric(data[\"Min pH\"])\n",
    "data['Min pH'] = data['Min pH'].fillna(data['Min pH'].median())\n",
    "data['Min pH'].isnull().sum()"
   ]
  },
  {
   "cell_type": "code",
   "execution_count": 204,
   "metadata": {},
   "outputs": [
    {
     "data": {
      "text/plain": [
       "0"
      ]
     },
     "execution_count": 204,
     "metadata": {},
     "output_type": "execute_result"
    }
   ],
   "source": [
    "data[\"Max pH\"] = pd.to_numeric(data[\"Max pH\"])\n",
    "data['Max pH'] = data['Max pH'].fillna(data['Max pH'].median())\n",
    "data['Max pH'].isnull().sum()"
   ]
  },
  {
   "cell_type": "code",
   "execution_count": 205,
   "metadata": {},
   "outputs": [
    {
     "data": {
      "text/plain": [
       "0"
      ]
     },
     "execution_count": 205,
     "metadata": {},
     "output_type": "execute_result"
    }
   ],
   "source": [
    "data[\"Min Conductivity\"] = pd.to_numeric(data[\"Min Conductivity\"])\n",
    "data['Min Conductivity'] = data['Min Conductivity'].fillna(data['Min Conductivity'].median())\n",
    "data['Min Conductivity'].isnull().sum()"
   ]
  },
  {
   "cell_type": "code",
   "execution_count": 206,
   "metadata": {},
   "outputs": [
    {
     "data": {
      "text/plain": [
       "0"
      ]
     },
     "execution_count": 206,
     "metadata": {},
     "output_type": "execute_result"
    }
   ],
   "source": [
    "data[\"Max Conductivity\"] = pd.to_numeric(data[\"Max Conductivity\"])\n",
    "data['Max Conductivity'] = data['Max Conductivity'].fillna(data['Max Conductivity'].median())\n",
    "data['Max Conductivity'].isnull().sum()"
   ]
  },
  {
   "cell_type": "code",
   "execution_count": 207,
   "metadata": {},
   "outputs": [
    {
     "data": {
      "text/plain": [
       "0"
      ]
     },
     "execution_count": 207,
     "metadata": {},
     "output_type": "execute_result"
    }
   ],
   "source": [
    "data[\"Min BOD\"] = pd.to_numeric(data[\"Min BOD\"])\n",
    "data['Min BOD'] = data['Min BOD'].fillna(data['Min BOD'].median())\n",
    "data['Min BOD'].isnull().sum()"
   ]
  },
  {
   "cell_type": "code",
   "execution_count": 208,
   "metadata": {},
   "outputs": [
    {
     "data": {
      "text/plain": [
       "0"
      ]
     },
     "execution_count": 208,
     "metadata": {},
     "output_type": "execute_result"
    }
   ],
   "source": [
    "data[\"Max BOD\"] = pd.to_numeric(data[\"Max BOD\"])\n",
    "data['Max BOD'] = data['Max BOD'].fillna(data['Max BOD'].median())\n",
    "data['Max BOD'].isnull().sum()"
   ]
  },
  {
   "cell_type": "code",
   "execution_count": 209,
   "metadata": {},
   "outputs": [
    {
     "data": {
      "text/plain": [
       "0"
      ]
     },
     "execution_count": 209,
     "metadata": {},
     "output_type": "execute_result"
    }
   ],
   "source": [
    "data[\"Min NitrateN + NitriteN\"] = pd.to_numeric(data[\"Min NitrateN + NitriteN\"])\n",
    "data['Min NitrateN + NitriteN'] = data['Min NitrateN + NitriteN'].fillna(data['Min NitrateN + NitriteN'].median())\n",
    "data['Min NitrateN + NitriteN'].isnull().sum()"
   ]
  },
  {
   "cell_type": "code",
   "execution_count": 210,
   "metadata": {},
   "outputs": [
    {
     "data": {
      "text/plain": [
       "0"
      ]
     },
     "execution_count": 210,
     "metadata": {},
     "output_type": "execute_result"
    }
   ],
   "source": [
    "data[\"Max NitrateN + NitriteN\"] = pd.to_numeric(data[\"Max NitrateN + NitriteN\"])\n",
    "data['Max NitrateN + NitriteN'] = data['Max NitrateN + NitriteN'].fillna(data['Max NitrateN + NitriteN'].median())\n",
    "data['Max NitrateN + NitriteN'].isnull().sum()"
   ]
  },
  {
   "cell_type": "code",
   "execution_count": 211,
   "metadata": {},
   "outputs": [
    {
     "data": {
      "text/plain": [
       "0"
      ]
     },
     "execution_count": 211,
     "metadata": {},
     "output_type": "execute_result"
    }
   ],
   "source": [
    "data[\"Min Faecal Coli form\"] = pd.to_numeric(data[\"Min Faecal Coli form\"])\n",
    "data['Min Faecal Coli form'] = data['Min Faecal Coli form'].fillna(data['Min Faecal Coli form'].median())\n",
    "data['Min Faecal Coli form'].isnull().sum()"
   ]
  },
  {
   "cell_type": "code",
   "execution_count": 212,
   "metadata": {},
   "outputs": [
    {
     "data": {
      "text/plain": [
       "0"
      ]
     },
     "execution_count": 212,
     "metadata": {},
     "output_type": "execute_result"
    }
   ],
   "source": [
    "data[\"Max Faecal Coli form\"] = pd.to_numeric(data[\"Max Faecal Coli form\"])\n",
    "data['Max Faecal Coli form'] = data['Max Faecal Coli form'].fillna(data['Max Faecal Coli form'].median())\n",
    "data['Max Faecal Coli form'].isnull().sum()"
   ]
  },
  {
   "cell_type": "code",
   "execution_count": 213,
   "metadata": {},
   "outputs": [
    {
     "data": {
      "text/plain": [
       "0"
      ]
     },
     "execution_count": 213,
     "metadata": {},
     "output_type": "execute_result"
    }
   ],
   "source": [
    "data[\"Min Total Coli form\"] = pd.to_numeric(data[\"Min Total Coli form\"])\n",
    "data['Min Total Coli form'] = data['Min Total Coli form'].fillna(data['Min Total Coli form'].median())\n",
    "data['Min Total Coli form'].isnull().sum()"
   ]
  },
  {
   "cell_type": "code",
   "execution_count": 214,
   "metadata": {},
   "outputs": [
    {
     "data": {
      "text/plain": [
       "0"
      ]
     },
     "execution_count": 214,
     "metadata": {},
     "output_type": "execute_result"
    }
   ],
   "source": [
    "data[\"Max Total Coli form\"] = pd.to_numeric(data[\"Max Total Coli form\"])\n",
    "data['Max Total Coli form'] = data['Max Total Coli form'].fillna(data['Max Total Coli form'].median())\n",
    "data['Max Total Coli form'].isnull().sum()"
   ]
  },
  {
   "cell_type": "code",
   "execution_count": 215,
   "metadata": {},
   "outputs": [
    {
     "name": "stdout",
     "output_type": "stream",
     "text": [
      "<class 'pandas.core.frame.DataFrame'>\n",
      "RangeIndex: 4103 entries, 0 to 4102\n",
      "Data columns (total 18 columns):\n",
      " #   Column                   Non-Null Count  Dtype  \n",
      "---  ------                   --------------  -----  \n",
      " 0   Year                     4103 non-null   int64  \n",
      " 1   Station Code             4103 non-null   int64  \n",
      " 2   Station Name             4103 non-null   object \n",
      " 3   State                    4103 non-null   object \n",
      " 4   Min Temperature          4103 non-null   float64\n",
      " 5   Max Temperature          4103 non-null   float64\n",
      " 6   Min pH                   4103 non-null   float64\n",
      " 7   Max pH                   4103 non-null   float64\n",
      " 8   Min Conductivity         4103 non-null   float64\n",
      " 9   Max Conductivity         4103 non-null   float64\n",
      " 10  Min BOD                  4103 non-null   float64\n",
      " 11  Max BOD                  4103 non-null   float64\n",
      " 12  Min NitrateN + NitriteN  4103 non-null   float64\n",
      " 13  Max NitrateN + NitriteN  4103 non-null   float64\n",
      " 14  Min Faecal Coli form     4103 non-null   float64\n",
      " 15  Max Faecal Coli form     4103 non-null   float64\n",
      " 16  Min Total Coli form      4103 non-null   float64\n",
      " 17  Max Total Coli form      4103 non-null   float64\n",
      "dtypes: float64(14), int64(2), object(2)\n",
      "memory usage: 577.1+ KB\n"
     ]
    }
   ],
   "source": [
    "data.info()"
   ]
  },
  {
   "cell_type": "code",
   "execution_count": 216,
   "metadata": {},
   "outputs": [
    {
     "data": {
      "text/plain": [
       "Year                       0\n",
       "Station Code               0\n",
       "Station Name               0\n",
       "State                      0\n",
       "Min Temperature            0\n",
       "Max Temperature            0\n",
       "Min pH                     0\n",
       "Max pH                     0\n",
       "Min Conductivity           0\n",
       "Max Conductivity           0\n",
       "Min BOD                    0\n",
       "Max BOD                    0\n",
       "Min NitrateN + NitriteN    0\n",
       "Max NitrateN + NitriteN    0\n",
       "Min Faecal Coli form       0\n",
       "Max Faecal Coli form       0\n",
       "Min Total Coli form        0\n",
       "Max Total Coli form        0\n",
       "dtype: int64"
      ]
     },
     "execution_count": 216,
     "metadata": {},
     "output_type": "execute_result"
    }
   ],
   "source": [
    "data.isnull().sum()"
   ]
  },
  {
   "cell_type": "code",
   "execution_count": 217,
   "metadata": {},
   "outputs": [],
   "source": [
    "data.to_excel(\"UW Data All Years cleaned.xlsx\", index=False)"
   ]
  },
  {
   "cell_type": "code",
   "execution_count": null,
   "metadata": {},
   "outputs": [],
   "source": []
  }
 ],
 "metadata": {
  "kernelspec": {
   "display_name": "Jupyter_env",
   "language": "python",
   "name": "python3"
  },
  "language_info": {
   "codemirror_mode": {
    "name": "ipython",
    "version": 3
   },
   "file_extension": ".py",
   "mimetype": "text/x-python",
   "name": "python",
   "nbconvert_exporter": "python",
   "pygments_lexer": "ipython3",
   "version": "3.9.12"
  },
  "orig_nbformat": 4
 },
 "nbformat": 4,
 "nbformat_minor": 2
}
