{
 "cells": [
  {
   "cell_type": "code",
   "execution_count": 98,
   "metadata": {},
   "outputs": [],
   "source": [
    "import pandas as pd\n",
    "import numpy as np"
   ]
  },
  {
   "cell_type": "code",
   "execution_count": 99,
   "metadata": {},
   "outputs": [
    {
     "data": {
      "text/html": [
       "<div>\n",
       "<style scoped>\n",
       "    .dataframe tbody tr th:only-of-type {\n",
       "        vertical-align: middle;\n",
       "    }\n",
       "\n",
       "    .dataframe tbody tr th {\n",
       "        vertical-align: top;\n",
       "    }\n",
       "\n",
       "    .dataframe thead th {\n",
       "        text-align: right;\n",
       "    }\n",
       "</style>\n",
       "<table border=\"1\" class=\"dataframe\">\n",
       "  <thead>\n",
       "    <tr style=\"text-align: right;\">\n",
       "      <th></th>\n",
       "      <th>year</th>\n",
       "      <th>station code</th>\n",
       "      <th>Station Name</th>\n",
       "      <th>State Name</th>\n",
       "      <th>River Name</th>\n",
       "      <th>Min Temperature</th>\n",
       "      <th>Max Temperature</th>\n",
       "      <th>Min Dissolved oxygen</th>\n",
       "      <th>Max Dissolved oxygen</th>\n",
       "      <th>Min pH</th>\n",
       "      <th>...</th>\n",
       "      <th>Min Conductivity</th>\n",
       "      <th>Max Conductivity</th>\n",
       "      <th>Min BOD</th>\n",
       "      <th>Max BOD</th>\n",
       "      <th>Min Nitrate-N + Nitrite-N</th>\n",
       "      <th>Max Nitrate-N + Nitrite-N</th>\n",
       "      <th>Min Faecal Coli form</th>\n",
       "      <th>Max Faecal Coli form</th>\n",
       "      <th>Min Total Coli form</th>\n",
       "      <th>Max Total Coli form</th>\n",
       "    </tr>\n",
       "  </thead>\n",
       "  <tbody>\n",
       "    <tr>\n",
       "      <th>0</th>\n",
       "      <td>2016</td>\n",
       "      <td>1001</td>\n",
       "      <td>BEAS  U/S MANALI</td>\n",
       "      <td>HIMACHAL PRADESH</td>\n",
       "      <td>BEAS</td>\n",
       "      <td>25.0</td>\n",
       "      <td>31.0</td>\n",
       "      <td>5.5</td>\n",
       "      <td>8.00</td>\n",
       "      <td>7.8</td>\n",
       "      <td>...</td>\n",
       "      <td>194.0</td>\n",
       "      <td>486.0</td>\n",
       "      <td>1.2</td>\n",
       "      <td>3.0</td>\n",
       "      <td>0.2</td>\n",
       "      <td>0.9</td>\n",
       "      <td>130.0</td>\n",
       "      <td>1300.0</td>\n",
       "      <td>840.0</td>\n",
       "      <td>3500.0</td>\n",
       "    </tr>\n",
       "    <tr>\n",
       "      <th>1</th>\n",
       "      <td>2016</td>\n",
       "      <td>2601</td>\n",
       "      <td>BEAS D/S MANALI</td>\n",
       "      <td>HIMACHAL PRADESH</td>\n",
       "      <td>BEAS</td>\n",
       "      <td>5.0</td>\n",
       "      <td>19.0</td>\n",
       "      <td>7.6</td>\n",
       "      <td>10.10</td>\n",
       "      <td>7.0</td>\n",
       "      <td>...</td>\n",
       "      <td>88.0</td>\n",
       "      <td>152.0</td>\n",
       "      <td>0.1</td>\n",
       "      <td>0.3</td>\n",
       "      <td>0.0</td>\n",
       "      <td>1.0</td>\n",
       "      <td>11.0</td>\n",
       "      <td>43.0</td>\n",
       "      <td>70.0</td>\n",
       "      <td>280.0</td>\n",
       "    </tr>\n",
       "    <tr>\n",
       "      <th>2</th>\n",
       "      <td>2016</td>\n",
       "      <td>2602</td>\n",
       "      <td>BEAS U/S KULLU</td>\n",
       "      <td>HIMACHAL PRADESH</td>\n",
       "      <td>BEAS</td>\n",
       "      <td>5.0</td>\n",
       "      <td>20.0</td>\n",
       "      <td>7.7</td>\n",
       "      <td>9.60</td>\n",
       "      <td>6.8</td>\n",
       "      <td>...</td>\n",
       "      <td>92.0</td>\n",
       "      <td>194.0</td>\n",
       "      <td>0.1</td>\n",
       "      <td>0.1</td>\n",
       "      <td>0.0</td>\n",
       "      <td>0.8</td>\n",
       "      <td>11.0</td>\n",
       "      <td>34.0</td>\n",
       "      <td>94.0</td>\n",
       "      <td>280.0</td>\n",
       "    </tr>\n",
       "    <tr>\n",
       "      <th>3</th>\n",
       "      <td>2016</td>\n",
       "      <td>1002</td>\n",
       "      <td>BEAS  D/S KULU</td>\n",
       "      <td>HIMACHAL PRADESH</td>\n",
       "      <td>BEAS</td>\n",
       "      <td>24.0</td>\n",
       "      <td>25.0</td>\n",
       "      <td>NaN</td>\n",
       "      <td>NaN</td>\n",
       "      <td>4.3</td>\n",
       "      <td>...</td>\n",
       "      <td>205.0</td>\n",
       "      <td>224.0</td>\n",
       "      <td>0.4</td>\n",
       "      <td>0.8</td>\n",
       "      <td>0.5</td>\n",
       "      <td>0.9</td>\n",
       "      <td>2.0</td>\n",
       "      <td>30.0</td>\n",
       "      <td>0.0</td>\n",
       "      <td>100.0</td>\n",
       "    </tr>\n",
       "    <tr>\n",
       "      <th>4</th>\n",
       "      <td>2016</td>\n",
       "      <td>1003</td>\n",
       "      <td>BEAS  D/S AUT</td>\n",
       "      <td>HIMACHAL PRADESH</td>\n",
       "      <td>BEAS</td>\n",
       "      <td>23.0</td>\n",
       "      <td>29.0</td>\n",
       "      <td>2.5</td>\n",
       "      <td>6.82</td>\n",
       "      <td>6.9</td>\n",
       "      <td>...</td>\n",
       "      <td>76.0</td>\n",
       "      <td>326.0</td>\n",
       "      <td>2.0</td>\n",
       "      <td>8.8</td>\n",
       "      <td>0.1</td>\n",
       "      <td>1.2</td>\n",
       "      <td>8.0</td>\n",
       "      <td>40.0</td>\n",
       "      <td>70.0</td>\n",
       "      <td>1600.0</td>\n",
       "    </tr>\n",
       "  </tbody>\n",
       "</table>\n",
       "<p>5 rows × 21 columns</p>\n",
       "</div>"
      ],
      "text/plain": [
       "   year station code      Station Name        State Name River Name  \\\n",
       "0  2016         1001  BEAS  U/S MANALI  HIMACHAL PRADESH       BEAS   \n",
       "1  2016         2601   BEAS D/S MANALI  HIMACHAL PRADESH       BEAS   \n",
       "2  2016         2602    BEAS U/S KULLU  HIMACHAL PRADESH       BEAS   \n",
       "3  2016         1002    BEAS  D/S KULU  HIMACHAL PRADESH       BEAS   \n",
       "4  2016         1003     BEAS  D/S AUT  HIMACHAL PRADESH       BEAS   \n",
       "\n",
       "   Min Temperature  Max Temperature  Min Dissolved oxygen  \\\n",
       "0             25.0             31.0                   5.5   \n",
       "1              5.0             19.0                   7.6   \n",
       "2              5.0             20.0                   7.7   \n",
       "3             24.0             25.0                   NaN   \n",
       "4             23.0             29.0                   2.5   \n",
       "\n",
       "   Max Dissolved oxygen  Min pH  ...  Min Conductivity  Max Conductivity  \\\n",
       "0                  8.00     7.8  ...             194.0             486.0   \n",
       "1                 10.10     7.0  ...              88.0             152.0   \n",
       "2                  9.60     6.8  ...              92.0             194.0   \n",
       "3                   NaN     4.3  ...             205.0             224.0   \n",
       "4                  6.82     6.9  ...              76.0             326.0   \n",
       "\n",
       "   Min BOD  Max BOD  Min Nitrate-N + Nitrite-N  Max Nitrate-N + Nitrite-N  \\\n",
       "0      1.2      3.0                        0.2                        0.9   \n",
       "1      0.1      0.3                        0.0                        1.0   \n",
       "2      0.1      0.1                        0.0                        0.8   \n",
       "3      0.4      0.8                        0.5                        0.9   \n",
       "4      2.0      8.8                        0.1                        1.2   \n",
       "\n",
       "   Min Faecal Coli form  Max Faecal Coli form  Min Total Coli form  \\\n",
       "0                 130.0                1300.0                840.0   \n",
       "1                  11.0                  43.0                 70.0   \n",
       "2                  11.0                  34.0                 94.0   \n",
       "3                   2.0                  30.0                  0.0   \n",
       "4                   8.0                  40.0                 70.0   \n",
       "\n",
       "   Max Total Coli form  \n",
       "0               3500.0  \n",
       "1                280.0  \n",
       "2                280.0  \n",
       "3                100.0  \n",
       "4               1600.0  \n",
       "\n",
       "[5 rows x 21 columns]"
      ]
     },
     "execution_count": 99,
     "metadata": {},
     "output_type": "execute_result"
    }
   ],
   "source": [
    "data = pd.read_excel(\"WQuality Data Final.xlsx\")\n",
    "data.head()"
   ]
  },
  {
   "cell_type": "code",
   "execution_count": 100,
   "metadata": {},
   "outputs": [
    {
     "name": "stdout",
     "output_type": "stream",
     "text": [
      "<class 'pandas.core.frame.DataFrame'>\n",
      "RangeIndex: 4410 entries, 0 to 4409\n",
      "Data columns (total 21 columns):\n",
      " #   Column                     Non-Null Count  Dtype  \n",
      "---  ------                     --------------  -----  \n",
      " 0   year                       4410 non-null   int64  \n",
      " 1   station code               4410 non-null   object \n",
      " 2   Station Name               4410 non-null   object \n",
      " 3   State Name                 4410 non-null   object \n",
      " 4   River Name                 4410 non-null   object \n",
      " 5   Min Temperature            4332 non-null   float64\n",
      " 6   Max Temperature            4331 non-null   float64\n",
      " 7   Min Dissolved oxygen       4344 non-null   float64\n",
      " 8   Max Dissolved oxygen       4346 non-null   float64\n",
      " 9   Min pH                     4403 non-null   float64\n",
      " 10  Max pH                     4403 non-null   float64\n",
      " 11  Min Conductivity           4176 non-null   float64\n",
      " 12  Max Conductivity           4178 non-null   float64\n",
      " 13  Min BOD                    4320 non-null   float64\n",
      " 14  Max BOD                    4320 non-null   float64\n",
      " 15  Min Nitrate-N + Nitrite-N  3813 non-null   float64\n",
      " 16  Max Nitrate-N + Nitrite-N  3822 non-null   float64\n",
      " 17  Min Faecal Coli form       3752 non-null   float64\n",
      " 18  Max Faecal Coli form       3751 non-null   float64\n",
      " 19  Min Total Coli form        3902 non-null   float64\n",
      " 20  Max Total Coli form        3907 non-null   float64\n",
      "dtypes: float64(16), int64(1), object(4)\n",
      "memory usage: 723.6+ KB\n"
     ]
    }
   ],
   "source": [
    "data .info()"
   ]
  },
  {
   "cell_type": "code",
   "execution_count": 101,
   "metadata": {},
   "outputs": [
    {
     "data": {
      "text/plain": [
       "year                           0\n",
       "station code                   0\n",
       "Station Name                   0\n",
       "State Name                     0\n",
       "River Name                     0\n",
       "Min Temperature               78\n",
       "Max Temperature               79\n",
       "Min Dissolved oxygen          66\n",
       "Max Dissolved oxygen          64\n",
       "Min pH                         7\n",
       "Max pH                         7\n",
       "Min Conductivity             234\n",
       "Max Conductivity             232\n",
       "Min BOD                       90\n",
       "Max BOD                       90\n",
       "Min Nitrate-N + Nitrite-N    597\n",
       "Max Nitrate-N + Nitrite-N    588\n",
       "Min Faecal Coli form         658\n",
       "Max Faecal Coli form         659\n",
       "Min Total Coli form          508\n",
       "Max Total Coli form          503\n",
       "dtype: int64"
      ]
     },
     "execution_count": 101,
     "metadata": {},
     "output_type": "execute_result"
    }
   ],
   "source": [
    "data.isnull().sum()"
   ]
  },
  {
   "cell_type": "code",
   "execution_count": 102,
   "metadata": {},
   "outputs": [],
   "source": [
    "data[\"Min Temperature\"] = pd.to_numeric(data[\"Min Temperature\"])"
   ]
  },
  {
   "cell_type": "code",
   "execution_count": 103,
   "metadata": {},
   "outputs": [
    {
     "data": {
      "text/plain": [
       "0"
      ]
     },
     "execution_count": 103,
     "metadata": {},
     "output_type": "execute_result"
    }
   ],
   "source": [
    "data['Min Temperature'] = data['Min Temperature'].fillna(data['Min Temperature'].median())\n",
    "data['Min Temperature'].isnull().sum()"
   ]
  },
  {
   "cell_type": "code",
   "execution_count": 104,
   "metadata": {},
   "outputs": [
    {
     "data": {
      "text/plain": [
       "0"
      ]
     },
     "execution_count": 104,
     "metadata": {},
     "output_type": "execute_result"
    }
   ],
   "source": [
    "data[\"Max Temperature\"] = pd.to_numeric(data[\"Max Temperature\"])\n",
    "data['Max Temperature'] = data['Max Temperature'].fillna(data['Max Temperature'].median())\n",
    "data['Max Temperature'].isnull().sum()"
   ]
  },
  {
   "cell_type": "code",
   "execution_count": 105,
   "metadata": {},
   "outputs": [
    {
     "data": {
      "text/plain": [
       "0"
      ]
     },
     "execution_count": 105,
     "metadata": {},
     "output_type": "execute_result"
    }
   ],
   "source": [
    "data[\"Min pH\"] = pd.to_numeric(data[\"Min pH\"])\n",
    "data['Min pH'] = data['Min pH'].fillna(data['Min pH'].median())\n",
    "data['Min pH'].isnull().sum()"
   ]
  },
  {
   "cell_type": "code",
   "execution_count": 106,
   "metadata": {},
   "outputs": [
    {
     "data": {
      "text/plain": [
       "0"
      ]
     },
     "execution_count": 106,
     "metadata": {},
     "output_type": "execute_result"
    }
   ],
   "source": [
    "data[\"Max pH\"] = pd.to_numeric(data[\"Max pH\"])\n",
    "data['Max pH'] = data['Max pH'].fillna(data['Max pH'].median())\n",
    "data['Max pH'].isnull().sum()"
   ]
  },
  {
   "cell_type": "code",
   "execution_count": 107,
   "metadata": {},
   "outputs": [
    {
     "data": {
      "text/plain": [
       "0"
      ]
     },
     "execution_count": 107,
     "metadata": {},
     "output_type": "execute_result"
    }
   ],
   "source": [
    "data[\"Min Conductivity\"] = pd.to_numeric(data[\"Min Conductivity\"])\n",
    "data['Min Conductivity'] = data['Min Conductivity'].fillna(data['Min Conductivity'].median())\n",
    "data['Min Conductivity'].isnull().sum()"
   ]
  },
  {
   "cell_type": "code",
   "execution_count": 108,
   "metadata": {},
   "outputs": [
    {
     "data": {
      "text/plain": [
       "0"
      ]
     },
     "execution_count": 108,
     "metadata": {},
     "output_type": "execute_result"
    }
   ],
   "source": [
    "data[\"Max Conductivity\"] = pd.to_numeric(data[\"Max Conductivity\"])\n",
    "data['Max Conductivity'] = data['Max Conductivity'].fillna(data['Max Conductivity'].median())\n",
    "data['Max Conductivity'].isnull().sum()"
   ]
  },
  {
   "cell_type": "code",
   "execution_count": 109,
   "metadata": {},
   "outputs": [
    {
     "data": {
      "text/plain": [
       "0"
      ]
     },
     "execution_count": 109,
     "metadata": {},
     "output_type": "execute_result"
    }
   ],
   "source": [
    "data[\"Min BOD\"] = pd.to_numeric(data[\"Min BOD\"])\n",
    "data['Min BOD'] = data['Min BOD'].fillna(data['Min BOD'].median())\n",
    "data['Min BOD'].isnull().sum()"
   ]
  },
  {
   "cell_type": "code",
   "execution_count": 110,
   "metadata": {},
   "outputs": [
    {
     "data": {
      "text/plain": [
       "0"
      ]
     },
     "execution_count": 110,
     "metadata": {},
     "output_type": "execute_result"
    }
   ],
   "source": [
    "data[\"Max BOD\"] = pd.to_numeric(data[\"Max BOD\"])\n",
    "data['Max BOD'] = data['Max BOD'].fillna(data['Max BOD'].median())\n",
    "data['Max BOD'].isnull().sum()"
   ]
  },
  {
   "cell_type": "code",
   "execution_count": 111,
   "metadata": {},
   "outputs": [
    {
     "data": {
      "text/plain": [
       "0"
      ]
     },
     "execution_count": 111,
     "metadata": {},
     "output_type": "execute_result"
    }
   ],
   "source": [
    "data[\"Min Nitrate-N + Nitrite-N\"] = pd.to_numeric(data[\"Min Nitrate-N + Nitrite-N\"])\n",
    "data['Min Nitrate-N + Nitrite-N'] = data['Min Nitrate-N + Nitrite-N'].fillna(data['Min Nitrate-N + Nitrite-N'].median())\n",
    "data['Min Nitrate-N + Nitrite-N'].isnull().sum()"
   ]
  },
  {
   "cell_type": "code",
   "execution_count": 112,
   "metadata": {},
   "outputs": [
    {
     "data": {
      "text/plain": [
       "0"
      ]
     },
     "execution_count": 112,
     "metadata": {},
     "output_type": "execute_result"
    }
   ],
   "source": [
    "data[\"Max Nitrate-N + Nitrite-N\"] = pd.to_numeric(data[\"Max Nitrate-N + Nitrite-N\"])\n",
    "data['Max Nitrate-N + Nitrite-N'] = data['Max Nitrate-N + Nitrite-N'].fillna(data['Max Nitrate-N + Nitrite-N'].median())\n",
    "data['Max Nitrate-N + Nitrite-N'].isnull().sum()"
   ]
  },
  {
   "cell_type": "code",
   "execution_count": 113,
   "metadata": {},
   "outputs": [
    {
     "data": {
      "text/plain": [
       "0"
      ]
     },
     "execution_count": 113,
     "metadata": {},
     "output_type": "execute_result"
    }
   ],
   "source": [
    "data[\"Min Faecal Coli form\"] = pd.to_numeric(data[\"Min Faecal Coli form\"])\n",
    "data['Min Faecal Coli form'] = data['Min Faecal Coli form'].fillna(data['Min Faecal Coli form'].median())\n",
    "data['Min Faecal Coli form'].isnull().sum()"
   ]
  },
  {
   "cell_type": "code",
   "execution_count": 114,
   "metadata": {},
   "outputs": [
    {
     "data": {
      "text/plain": [
       "0"
      ]
     },
     "execution_count": 114,
     "metadata": {},
     "output_type": "execute_result"
    }
   ],
   "source": [
    "data[\"Max Faecal Coli form\"] = pd.to_numeric(data[\"Max Faecal Coli form\"])\n",
    "data['Max Faecal Coli form'] = data['Max Faecal Coli form'].fillna(data['Max Faecal Coli form'].median())\n",
    "data['Max Faecal Coli form'].isnull().sum()"
   ]
  },
  {
   "cell_type": "code",
   "execution_count": 115,
   "metadata": {},
   "outputs": [
    {
     "data": {
      "text/plain": [
       "0"
      ]
     },
     "execution_count": 115,
     "metadata": {},
     "output_type": "execute_result"
    }
   ],
   "source": [
    "data[\"Min Total Coli form\"] = pd.to_numeric(data[\"Min Total Coli form\"])\n",
    "data['Min Total Coli form'] = data['Min Total Coli form'].fillna(data['Min Total Coli form'].median())\n",
    "data['Min Total Coli form'].isnull().sum()"
   ]
  },
  {
   "cell_type": "code",
   "execution_count": 116,
   "metadata": {},
   "outputs": [
    {
     "data": {
      "text/plain": [
       "0"
      ]
     },
     "execution_count": 116,
     "metadata": {},
     "output_type": "execute_result"
    }
   ],
   "source": [
    "data[\"Max Total Coli form\"] = pd.to_numeric(data[\"Max Total Coli form\"])\n",
    "data['Max Total Coli form'] = data['Max Total Coli form'].fillna(data['Max Total Coli form'].median())\n",
    "data['Max Total Coli form'].isnull().sum()"
   ]
  },
  {
   "cell_type": "code",
   "execution_count": 117,
   "metadata": {},
   "outputs": [
    {
     "data": {
      "text/plain": [
       "0"
      ]
     },
     "execution_count": 117,
     "metadata": {},
     "output_type": "execute_result"
    }
   ],
   "source": [
    "data[\"Min Dissolved oxygen\"] = pd.to_numeric(data[\"Min Dissolved oxygen\"])\n",
    "data['Min Dissolved oxygen'] = data['Min Dissolved oxygen'].fillna(data['Min Dissolved oxygen'].median())\n",
    "data['Min Dissolved oxygen'].isnull().sum()"
   ]
  },
  {
   "cell_type": "code",
   "execution_count": 118,
   "metadata": {},
   "outputs": [
    {
     "data": {
      "text/plain": [
       "0"
      ]
     },
     "execution_count": 118,
     "metadata": {},
     "output_type": "execute_result"
    }
   ],
   "source": [
    "data[\"Max Dissolved oxygen\"] = pd.to_numeric(data[\"Max Dissolved oxygen\"])\n",
    "data['Max Dissolved oxygen'] = data['Max Dissolved oxygen'].fillna(data['Max Dissolved oxygen'].median())\n",
    "data['Max Dissolved oxygen'].isnull().sum()"
   ]
  },
  {
   "cell_type": "code",
   "execution_count": 119,
   "metadata": {},
   "outputs": [
    {
     "name": "stdout",
     "output_type": "stream",
     "text": [
      "<class 'pandas.core.frame.DataFrame'>\n",
      "RangeIndex: 4410 entries, 0 to 4409\n",
      "Data columns (total 21 columns):\n",
      " #   Column                     Non-Null Count  Dtype  \n",
      "---  ------                     --------------  -----  \n",
      " 0   year                       4410 non-null   int64  \n",
      " 1   station code               4410 non-null   object \n",
      " 2   Station Name               4410 non-null   object \n",
      " 3   State Name                 4410 non-null   object \n",
      " 4   River Name                 4410 non-null   object \n",
      " 5   Min Temperature            4410 non-null   float64\n",
      " 6   Max Temperature            4410 non-null   float64\n",
      " 7   Min Dissolved oxygen       4410 non-null   float64\n",
      " 8   Max Dissolved oxygen       4410 non-null   float64\n",
      " 9   Min pH                     4410 non-null   float64\n",
      " 10  Max pH                     4410 non-null   float64\n",
      " 11  Min Conductivity           4410 non-null   float64\n",
      " 12  Max Conductivity           4410 non-null   float64\n",
      " 13  Min BOD                    4410 non-null   float64\n",
      " 14  Max BOD                    4410 non-null   float64\n",
      " 15  Min Nitrate-N + Nitrite-N  4410 non-null   float64\n",
      " 16  Max Nitrate-N + Nitrite-N  4410 non-null   float64\n",
      " 17  Min Faecal Coli form       4410 non-null   float64\n",
      " 18  Max Faecal Coli form       4410 non-null   float64\n",
      " 19  Min Total Coli form        4410 non-null   float64\n",
      " 20  Max Total Coli form        4410 non-null   float64\n",
      "dtypes: float64(16), int64(1), object(4)\n",
      "memory usage: 723.6+ KB\n"
     ]
    }
   ],
   "source": [
    "data.info()"
   ]
  },
  {
   "cell_type": "code",
   "execution_count": 120,
   "metadata": {},
   "outputs": [
    {
     "data": {
      "text/plain": [
       "year                         0\n",
       "station code                 0\n",
       "Station Name                 0\n",
       "State Name                   0\n",
       "River Name                   0\n",
       "Min Temperature              0\n",
       "Max Temperature              0\n",
       "Min Dissolved oxygen         0\n",
       "Max Dissolved oxygen         0\n",
       "Min pH                       0\n",
       "Max pH                       0\n",
       "Min Conductivity             0\n",
       "Max Conductivity             0\n",
       "Min BOD                      0\n",
       "Max BOD                      0\n",
       "Min Nitrate-N + Nitrite-N    0\n",
       "Max Nitrate-N + Nitrite-N    0\n",
       "Min Faecal Coli form         0\n",
       "Max Faecal Coli form         0\n",
       "Min Total Coli form          0\n",
       "Max Total Coli form          0\n",
       "dtype: int64"
      ]
     },
     "execution_count": 120,
     "metadata": {},
     "output_type": "execute_result"
    }
   ],
   "source": [
    "data.isnull().sum()"
   ]
  },
  {
   "cell_type": "code",
   "execution_count": 121,
   "metadata": {},
   "outputs": [],
   "source": [
    "data.to_excel(\"WQuality Data Final cleaned.xlsx\", index=False)"
   ]
  },
  {
   "cell_type": "code",
   "execution_count": null,
   "metadata": {},
   "outputs": [],
   "source": []
  }
 ],
 "metadata": {
  "kernelspec": {
   "display_name": "Jupyter_env",
   "language": "python",
   "name": "python3"
  },
  "language_info": {
   "codemirror_mode": {
    "name": "ipython",
    "version": 3
   },
   "file_extension": ".py",
   "mimetype": "text/x-python",
   "name": "python",
   "nbconvert_exporter": "python",
   "pygments_lexer": "ipython3",
   "version": "3.9.12"
  },
  "orig_nbformat": 4
 },
 "nbformat": 4,
 "nbformat_minor": 2
}
