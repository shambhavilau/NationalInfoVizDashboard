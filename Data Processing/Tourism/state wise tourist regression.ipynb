{
 "cells": [
  {
   "cell_type": "code",
   "execution_count": 1,
   "metadata": {},
   "outputs": [],
   "source": [
    "import pandas as pd\n",
    "import numpy as np\n",
    "import matplotlib.pyplot as plt\n",
    "%matplotlib inline\n",
    "import seaborn as sns"
   ]
  },
  {
   "cell_type": "code",
   "execution_count": 2,
   "metadata": {},
   "outputs": [
    {
     "data": {
      "text/html": [
       "<div>\n",
       "<style scoped>\n",
       "    .dataframe tbody tr th:only-of-type {\n",
       "        vertical-align: middle;\n",
       "    }\n",
       "\n",
       "    .dataframe tbody tr th {\n",
       "        vertical-align: top;\n",
       "    }\n",
       "\n",
       "    .dataframe thead th {\n",
       "        text-align: right;\n",
       "    }\n",
       "</style>\n",
       "<table border=\"1\" class=\"dataframe\">\n",
       "  <thead>\n",
       "    <tr style=\"text-align: right;\">\n",
       "      <th></th>\n",
       "      <th>States/Uts</th>\n",
       "      <th>Domestic -2019</th>\n",
       "      <th>Foreign - 2019</th>\n",
       "      <th>Domestic -2020</th>\n",
       "      <th>Foreign - 2020</th>\n",
       "      <th>Growth rate - DomestivTourisVisit  2020/19</th>\n",
       "      <th>Growth rate - ForeignTouristVisit 2020/19</th>\n",
       "    </tr>\n",
       "  </thead>\n",
       "  <tbody>\n",
       "    <tr>\n",
       "      <th>0</th>\n",
       "      <td>A&amp;N Island</td>\n",
       "      <td>505398</td>\n",
       "      <td>16206</td>\n",
       "      <td>191207</td>\n",
       "      <td>5412</td>\n",
       "      <td>-62.17</td>\n",
       "      <td>-66.60</td>\n",
       "    </tr>\n",
       "    <tr>\n",
       "      <th>1</th>\n",
       "      <td>Andhra Pradesh</td>\n",
       "      <td>237051508</td>\n",
       "      <td>280356</td>\n",
       "      <td>70828590</td>\n",
       "      <td>67591</td>\n",
       "      <td>-70.12</td>\n",
       "      <td>-75.89</td>\n",
       "    </tr>\n",
       "    <tr>\n",
       "      <th>2</th>\n",
       "      <td>Arunachal Pradesh</td>\n",
       "      <td>555639</td>\n",
       "      <td>7825</td>\n",
       "      <td>42871</td>\n",
       "      <td>961</td>\n",
       "      <td>-92.28</td>\n",
       "      <td>-87.72</td>\n",
       "    </tr>\n",
       "    <tr>\n",
       "      <th>3</th>\n",
       "      <td>Assam</td>\n",
       "      <td>5447805</td>\n",
       "      <td>26878</td>\n",
       "      <td>1266898</td>\n",
       "      <td>7285</td>\n",
       "      <td>-76.74</td>\n",
       "      <td>-72.90</td>\n",
       "    </tr>\n",
       "    <tr>\n",
       "      <th>4</th>\n",
       "      <td>Bihar</td>\n",
       "      <td>33990038</td>\n",
       "      <td>1093141</td>\n",
       "      <td>5638024</td>\n",
       "      <td>308080</td>\n",
       "      <td>-83.41</td>\n",
       "      <td>-71.82</td>\n",
       "    </tr>\n",
       "  </tbody>\n",
       "</table>\n",
       "</div>"
      ],
      "text/plain": [
       "           States/Uts  Domestic -2019  Foreign - 2019  Domestic -2020  \\\n",
       "0         A&N Island           505398           16206          191207   \n",
       "1    Andhra Pradesh         237051508          280356        70828590   \n",
       "2  Arunachal Pradesh           555639            7825           42871   \n",
       "3              Assam          5447805           26878         1266898   \n",
       "4             Bihar          33990038         1093141         5638024   \n",
       "\n",
       "   Foreign - 2020  Growth rate - DomestivTourisVisit  2020/19  \\\n",
       "0            5412                                      -62.17   \n",
       "1           67591                                      -70.12   \n",
       "2             961                                      -92.28   \n",
       "3            7285                                      -76.74   \n",
       "4          308080                                      -83.41   \n",
       "\n",
       "   Growth rate - ForeignTouristVisit 2020/19  \n",
       "0                                     -66.60  \n",
       "1                                     -75.89  \n",
       "2                                     -87.72  \n",
       "3                                     -72.90  \n",
       "4                                     -71.82  "
      ]
     },
     "execution_count": 2,
     "metadata": {},
     "output_type": "execute_result"
    }
   ],
   "source": [
    "data = pd.read_csv(\"State wise domestic and international tourists 2019-20.csv\")\n",
    "data.head()"
   ]
  },
  {
   "cell_type": "code",
   "execution_count": 3,
   "metadata": {},
   "outputs": [
    {
     "name": "stdout",
     "output_type": "stream",
     "text": [
      "<class 'pandas.core.frame.DataFrame'>\n",
      "RangeIndex: 38 entries, 0 to 37\n",
      "Data columns (total 7 columns):\n",
      " #   Column                                      Non-Null Count  Dtype  \n",
      "---  ------                                      --------------  -----  \n",
      " 0   States/Uts                                  38 non-null     object \n",
      " 1   Domestic -2019                              38 non-null     int64  \n",
      " 2   Foreign - 2019                              38 non-null     int64  \n",
      " 3   Domestic -2020                              38 non-null     int64  \n",
      " 4   Foreign - 2020                              38 non-null     int64  \n",
      " 5   Growth rate - DomestivTourisVisit  2020/19  38 non-null     float64\n",
      " 6   Growth rate - ForeignTouristVisit 2020/19   38 non-null     float64\n",
      "dtypes: float64(2), int64(4), object(1)\n",
      "memory usage: 2.2+ KB\n"
     ]
    }
   ],
   "source": [
    "data.info()"
   ]
  },
  {
   "cell_type": "code",
   "execution_count": 4,
   "metadata": {},
   "outputs": [
    {
     "data": {
      "text/plain": [
       "States/Uts                                    0\n",
       "Domestic -2019                                0\n",
       "Foreign - 2019                                0\n",
       "Domestic -2020                                0\n",
       "Foreign - 2020                                0\n",
       "Growth rate - DomestivTourisVisit  2020/19    0\n",
       "Growth rate - ForeignTouristVisit 2020/19     0\n",
       "dtype: int64"
      ]
     },
     "execution_count": 4,
     "metadata": {},
     "output_type": "execute_result"
    }
   ],
   "source": [
    "data.isna().sum()"
   ]
  },
  {
   "cell_type": "code",
   "execution_count": 5,
   "metadata": {},
   "outputs": [
    {
     "data": {
      "text/plain": [
       "<Axes: >"
      ]
     },
     "execution_count": 5,
     "metadata": {},
     "output_type": "execute_result"
    },
    {
     "data": {
      "image/png": "[encoded data removed]",
      "text/plain": [
       "<Figure size 864x432 with 1 Axes>"
      ]
     },
     "metadata": {
      "needs_background": "light"
     },
     "output_type": "display_data"
    }
   ],
   "source": [
    "data.plot(figsize=(12,6))"
   ]
  },
  {
   "cell_type": "code",
   "execution_count": 6,
   "metadata": {},
   "outputs": [
    {
     "data": {
      "image/png": "[encoded data removed]",
      "text/plain": [
       "<Figure size 432x432 with 2 Axes>"
      ]
     },
     "metadata": {
      "needs_background": "light"
     },
     "output_type": "display_data"
    }
   ],
   "source": [
    "corr_matrix = data.corr()\n",
    "fig, ax = plt.subplots(figsize=(6,6))\n",
    "ax = sns.heatmap(corr_matrix,\n",
    "                annot=True,\n",
    "                linewidths=0.5,\n",
    "                fmt=\".2f\",\n",
    "                cmap=\"YlGnBu\");"
   ]
  },
  {
   "cell_type": "code",
   "execution_count": 7,
   "metadata": {},
   "outputs": [
    {
     "data": {
      "text/plain": [
       "True"
      ]
     },
     "execution_count": 7,
     "metadata": {},
     "output_type": "execute_result"
    }
   ],
   "source": [
    "pd.api.types.is_string_dtype(data[\"States/Uts\"])"
   ]
  },
  {
   "cell_type": "code",
   "execution_count": 8,
   "metadata": {},
   "outputs": [
    {
     "name": "stdout",
     "output_type": "stream",
     "text": [
      "States/Uts\n"
     ]
    }
   ],
   "source": [
    "# Find the columns which contain strings\n",
    "# data_temp.items() treats the data like dict where keys are col names and values are the values corresponding to each key\n",
    "for label, content in data.items():\n",
    "    if pd.api.types.is_string_dtype(content):\n",
    "        print(label)"
   ]
  },
  {
   "cell_type": "code",
   "execution_count": 9,
   "metadata": {},
   "outputs": [],
   "source": [
    "# This will convert all strings to category\n",
    "for label, content in data.items():\n",
    "    if pd.api.types.is_string_dtype(content):\n",
    "        data[label] = content.astype(\"category\").cat.as_ordered()    # assigns a numeric value to each category"
   ]
  },
  {
   "cell_type": "code",
   "execution_count": 10,
   "metadata": {},
   "outputs": [
    {
     "data": {
      "text/plain": [
       "Index(['A&N Island ', 'Andhra Pradesh  ', 'Arunachal Pradesh ', 'Assam ',\n",
       "       'Bihar  ', 'Chandigarh  ', 'Chhattisgarh ', 'Dadra & Nagar Haveli ',\n",
       "       'Daman & Diu', 'Delhi', 'Goa ', 'Grand Total', 'Gujarat ', 'Haryana ',\n",
       "       'Himachal Pradesh  ', 'J&K ', 'Jharkhand', 'Karnataka ', 'Kerala ',\n",
       "       'Ladakh', 'Lakshdweep ', 'Madhya Pradesh', 'Maharashtra ', 'Manipur  ',\n",
       "       'Meghalaya ', 'Mizoram ', 'Nagaland ', 'Odisha ', 'Puducherry',\n",
       "       'Punjab ', 'Rajasthan  ', 'Sikkim ', 'Tamil Nadu ', 'Telengana',\n",
       "       'Tripura ', 'Uttar Pradesh', 'Uttarakhand ', 'West Bengal '],\n",
       "      dtype='object')"
      ]
     },
     "execution_count": 10,
     "metadata": {},
     "output_type": "execute_result"
    }
   ],
   "source": [
    "data[\"States/Uts\"].cat.categories"
   ]
  },
  {
   "cell_type": "code",
   "execution_count": 11,
   "metadata": {},
   "outputs": [],
   "source": [
    "data['StateCodes'] = data[\"States/Uts\"].cat.codes"
   ]
  },
  {
   "cell_type": "code",
   "execution_count": 12,
   "metadata": {},
   "outputs": [],
   "source": [
    "X = data.drop(columns=[\"Growth rate - ForeignTouristVisit 2020/19\",\"States/Uts\"],axis=1)\n",
    "y = data[\"Growth rate - ForeignTouristVisit 2020/19\"]"
   ]
  },
  {
   "cell_type": "code",
   "execution_count": 13,
   "metadata": {},
   "outputs": [
    {
     "data": {
      "text/html": [
       "<div>\n",
       "<style scoped>\n",
       "    .dataframe tbody tr th:only-of-type {\n",
       "        vertical-align: middle;\n",
       "    }\n",
       "\n",
       "    .dataframe tbody tr th {\n",
       "        vertical-align: top;\n",
       "    }\n",
       "\n",
       "    .dataframe thead th {\n",
       "        text-align: right;\n",
       "    }\n",
       "</style>\n",
       "<table border=\"1\" class=\"dataframe\">\n",
       "  <thead>\n",
       "    <tr style=\"text-align: right;\">\n",
       "      <th></th>\n",
       "      <th>Domestic -2019</th>\n",
       "      <th>Foreign - 2019</th>\n",
       "      <th>Domestic -2020</th>\n",
       "      <th>Foreign - 2020</th>\n",
       "      <th>Growth rate - DomestivTourisVisit  2020/19</th>\n",
       "      <th>StateCodes</th>\n",
       "    </tr>\n",
       "  </thead>\n",
       "  <tbody>\n",
       "    <tr>\n",
       "      <th>0</th>\n",
       "      <td>505398</td>\n",
       "      <td>16206</td>\n",
       "      <td>191207</td>\n",
       "      <td>5412</td>\n",
       "      <td>-62.17</td>\n",
       "      <td>0</td>\n",
       "    </tr>\n",
       "    <tr>\n",
       "      <th>1</th>\n",
       "      <td>237051508</td>\n",
       "      <td>280356</td>\n",
       "      <td>70828590</td>\n",
       "      <td>67591</td>\n",
       "      <td>-70.12</td>\n",
       "      <td>1</td>\n",
       "    </tr>\n",
       "    <tr>\n",
       "      <th>2</th>\n",
       "      <td>555639</td>\n",
       "      <td>7825</td>\n",
       "      <td>42871</td>\n",
       "      <td>961</td>\n",
       "      <td>-92.28</td>\n",
       "      <td>2</td>\n",
       "    </tr>\n",
       "    <tr>\n",
       "      <th>3</th>\n",
       "      <td>5447805</td>\n",
       "      <td>26878</td>\n",
       "      <td>1266898</td>\n",
       "      <td>7285</td>\n",
       "      <td>-76.74</td>\n",
       "      <td>3</td>\n",
       "    </tr>\n",
       "    <tr>\n",
       "      <th>4</th>\n",
       "      <td>33990038</td>\n",
       "      <td>1093141</td>\n",
       "      <td>5638024</td>\n",
       "      <td>308080</td>\n",
       "      <td>-83.41</td>\n",
       "      <td>4</td>\n",
       "    </tr>\n",
       "  </tbody>\n",
       "</table>\n",
       "</div>"
      ],
      "text/plain": [
       "   Domestic -2019  Foreign - 2019  Domestic -2020  Foreign - 2020  \\\n",
       "0          505398           16206          191207            5412   \n",
       "1       237051508          280356        70828590           67591   \n",
       "2          555639            7825           42871             961   \n",
       "3         5447805           26878         1266898            7285   \n",
       "4        33990038         1093141         5638024          308080   \n",
       "\n",
       "   Growth rate - DomestivTourisVisit  2020/19  StateCodes  \n",
       "0                                      -62.17           0  \n",
       "1                                      -70.12           1  \n",
       "2                                      -92.28           2  \n",
       "3                                      -76.74           3  \n",
       "4                                      -83.41           4  "
      ]
     },
     "execution_count": 13,
     "metadata": {},
     "output_type": "execute_result"
    }
   ],
   "source": [
    "X.head()"
   ]
  },
  {
   "cell_type": "code",
   "execution_count": 14,
   "metadata": {},
   "outputs": [
    {
     "data": {
      "text/plain": [
       "0   -66.60\n",
       "1   -75.89\n",
       "2   -87.72\n",
       "3   -72.90\n",
       "4   -71.82\n",
       "Name: Growth rate - ForeignTouristVisit 2020/19, dtype: float64"
      ]
     },
     "execution_count": 14,
     "metadata": {},
     "output_type": "execute_result"
    }
   ],
   "source": [
    "y.head()"
   ]
  },
  {
   "cell_type": "code",
   "execution_count": 15,
   "metadata": {},
   "outputs": [],
   "source": [
    "from sklearn.model_selection import train_test_split\n",
    "X_train, X_test, y_train, y_test = train_test_split(X, y, test_size=0.2, random_state=42)"
   ]
  },
  {
   "attachments": {},
   "cell_type": "markdown",
   "metadata": {},
   "source": [
    "#### Random Forest regression"
   ]
  },
  {
   "cell_type": "code",
   "execution_count": 16,
   "metadata": {},
   "outputs": [
    {
     "data": {
      "text/plain": [
       "0.20318775252153742"
      ]
     },
     "execution_count": 16,
     "metadata": {},
     "output_type": "execute_result"
    }
   ],
   "source": [
    "from sklearn.ensemble import RandomForestRegressor\n",
    "model1 = RandomForestRegressor(n_jobs=-1, random_state=42)\n",
    "model1.fit(X_train,y_train)\n",
    "model1.score(X_test,y_test)"
   ]
  },
  {
   "attachments": {},
   "cell_type": "markdown",
   "metadata": {},
   "source": [
    "#### Linear Regression"
   ]
  },
  {
   "cell_type": "code",
   "execution_count": 17,
   "metadata": {},
   "outputs": [
    {
     "data": {
      "text/plain": [
       "0.609586664290028"
      ]
     },
     "execution_count": 17,
     "metadata": {},
     "output_type": "execute_result"
    }
   ],
   "source": [
    "from sklearn.linear_model import LinearRegression\n",
    "model2 = LinearRegression()\n",
    "model2.fit(X_train,y_train)\n",
    "model2.score(X_test,y_test)"
   ]
  },
  {
   "attachments": {},
   "cell_type": "markdown",
   "metadata": {},
   "source": [
    "#### Gradient Boosting"
   ]
  },
  {
   "cell_type": "code",
   "execution_count": 18,
   "metadata": {},
   "outputs": [
    {
     "data": {
      "text/plain": [
       "0.20572666357195568"
      ]
     },
     "execution_count": 18,
     "metadata": {},
     "output_type": "execute_result"
    }
   ],
   "source": [
    "from sklearn.ensemble import GradientBoostingRegressor\n",
    "model3 = GradientBoostingRegressor(random_state=42)\n",
    "model3.fit(X_train,y_train)\n",
    "model3.score(X_test,y_test)"
   ]
  },
  {
   "attachments": {},
   "cell_type": "markdown",
   "metadata": {},
   "source": [
    "#### Ridge Regression"
   ]
  },
  {
   "cell_type": "code",
   "execution_count": 19,
   "metadata": {},
   "outputs": [
    {
     "data": {
      "text/plain": [
       "0.6095554128444156"
      ]
     },
     "execution_count": 19,
     "metadata": {},
     "output_type": "execute_result"
    }
   ],
   "source": [
    "from sklearn.linear_model import Ridge\n",
    "\n",
    "model4 = Ridge(random_state=42)\n",
    "model4.fit(X_train,y_train)\n",
    "model4.score(X_test,y_test)"
   ]
  },
  {
   "attachments": {},
   "cell_type": "markdown",
   "metadata": {},
   "source": [
    "#### XG Boost"
   ]
  },
  {
   "cell_type": "code",
   "execution_count": 20,
   "metadata": {},
   "outputs": [
    {
     "name": "stdout",
     "output_type": "stream",
     "text": [
      "[12:04:52] WARNING: C:/buildkite-agent/builds/buildkite-windows-cpu-autoscaling-group-i-08de971ced8a8cdc6-1/xgboost/xgboost-ci-windows/src/objective/regression_obj.cu:213: reg:linear is now deprecated in favor of reg:squarederror.\n"
     ]
    },
    {
     "data": {
      "text/plain": [
       "-2.4135972280212434"
      ]
     },
     "execution_count": 20,
     "metadata": {},
     "output_type": "execute_result"
    }
   ],
   "source": [
    "import xgboost as xgb\n",
    "\n",
    "model5 = xgb.XGBRegressor(objective ='reg:linear', colsample_bytree = 0.3, learning_rate = 0.1,\n",
    "                max_depth = 5, alpha = 10, n_estimators = 10)\n",
    "model5.fit(X_train,y_train)\n",
    "model5.score(X_test,y_test)               "
   ]
  },
  {
   "cell_type": "code",
   "execution_count": 21,
   "metadata": {},
   "outputs": [
    {
     "data": {
      "text/html": [
       "<div>\n",
       "<style scoped>\n",
       "    .dataframe tbody tr th:only-of-type {\n",
       "        vertical-align: middle;\n",
       "    }\n",
       "\n",
       "    .dataframe tbody tr th {\n",
       "        vertical-align: top;\n",
       "    }\n",
       "\n",
       "    .dataframe thead th {\n",
       "        text-align: right;\n",
       "    }\n",
       "</style>\n",
       "<table border=\"1\" class=\"dataframe\">\n",
       "  <thead>\n",
       "    <tr style=\"text-align: right;\">\n",
       "      <th></th>\n",
       "      <th>Actual Growth rate - ForeignTouristVisit 2020/19</th>\n",
       "      <th>Predicted Growth rate - ForeignTouristVisit 2020/19</th>\n",
       "    </tr>\n",
       "  </thead>\n",
       "  <tbody>\n",
       "    <tr>\n",
       "      <th>0</th>\n",
       "      <td>-66.60</td>\n",
       "      <td>-67.702009</td>\n",
       "    </tr>\n",
       "    <tr>\n",
       "      <th>1</th>\n",
       "      <td>-75.89</td>\n",
       "      <td>-76.106495</td>\n",
       "    </tr>\n",
       "    <tr>\n",
       "      <th>2</th>\n",
       "      <td>-87.72</td>\n",
       "      <td>-89.292877</td>\n",
       "    </tr>\n",
       "    <tr>\n",
       "      <th>3</th>\n",
       "      <td>-72.90</td>\n",
       "      <td>-78.245876</td>\n",
       "    </tr>\n",
       "    <tr>\n",
       "      <th>4</th>\n",
       "      <td>-71.82</td>\n",
       "      <td>-80.555414</td>\n",
       "    </tr>\n",
       "    <tr>\n",
       "      <th>5</th>\n",
       "      <td>-72.31</td>\n",
       "      <td>-75.904267</td>\n",
       "    </tr>\n",
       "    <tr>\n",
       "      <th>6</th>\n",
       "      <td>-65.94</td>\n",
       "      <td>-83.130947</td>\n",
       "    </tr>\n",
       "    <tr>\n",
       "      <th>7</th>\n",
       "      <td>-86.67</td>\n",
       "      <td>-83.038050</td>\n",
       "    </tr>\n",
       "    <tr>\n",
       "      <th>8</th>\n",
       "      <td>-75.77</td>\n",
       "      <td>-71.627922</td>\n",
       "    </tr>\n",
       "    <tr>\n",
       "      <th>9</th>\n",
       "      <td>-77.20</td>\n",
       "      <td>-75.865590</td>\n",
       "    </tr>\n",
       "  </tbody>\n",
       "</table>\n",
       "</div>"
      ],
      "text/plain": [
       "   Actual Growth rate - ForeignTouristVisit 2020/19  \\\n",
       "0                                            -66.60   \n",
       "1                                            -75.89   \n",
       "2                                            -87.72   \n",
       "3                                            -72.90   \n",
       "4                                            -71.82   \n",
       "5                                            -72.31   \n",
       "6                                            -65.94   \n",
       "7                                            -86.67   \n",
       "8                                            -75.77   \n",
       "9                                            -77.20   \n",
       "\n",
       "   Predicted Growth rate - ForeignTouristVisit 2020/19  \n",
       "0                                         -67.702009    \n",
       "1                                         -76.106495    \n",
       "2                                         -89.292877    \n",
       "3                                         -78.245876    \n",
       "4                                         -80.555414    \n",
       "5                                         -75.904267    \n",
       "6                                         -83.130947    \n",
       "7                                         -83.038050    \n",
       "8                                         -71.627922    \n",
       "9                                         -75.865590    "
      ]
     },
     "execution_count": 21,
     "metadata": {},
     "output_type": "execute_result"
    }
   ],
   "source": [
    "y_preds_2 = model2.predict(X)\n",
    "scores_2 = pd.DataFrame(columns=[\"Actual Growth rate - ForeignTouristVisit 2020/19\",\"Predicted Growth rate - ForeignTouristVisit 2020/19\"])\n",
    "scores_2[\"Actual Growth rate - ForeignTouristVisit 2020/19\"] = y\n",
    "scores_2[\"Predicted Growth rate - ForeignTouristVisit 2020/19\"] = y_preds_2\n",
    "scores_2.head(10)\n"
   ]
  },
  {
   "cell_type": "code",
   "execution_count": 22,
   "metadata": {},
   "outputs": [
    {
     "data": {
      "text/plain": [
       "Text(0, 0.5, 'Growth rate - ForeignTouristVisit 2020/19')"
      ]
     },
     "execution_count": 22,
     "metadata": {},
     "output_type": "execute_result"
    },
    {
     "data": {
      "image/png": "[encoded data removed]",
      "text/plain": [
       "<Figure size 432x288 with 1 Axes>"
      ]
     },
     "metadata": {
      "needs_background": "light"
     },
     "output_type": "display_data"
    }
   ],
   "source": [
    "plt.plot(scores_2[\"Actual Growth rate - ForeignTouristVisit 2020/19\"], label='actual')\n",
    "plt.plot(scores_2[\"Predicted Growth rate - ForeignTouristVisit 2020/19\"], label='predicted')\n",
    "plt.legend()\n",
    "plt.xlabel(\"State code\")\n",
    "plt.ylabel(\"Growth rate - ForeignTouristVisit 2020/19\")"
   ]
  },
  {
   "cell_type": "code",
   "execution_count": 23,
   "metadata": {},
   "outputs": [
    {
     "data": {
      "text/plain": [
       "(47.35938278274419, 0.6762499117238289, 5.209098777416944)"
      ]
     },
     "execution_count": 23,
     "metadata": {},
     "output_type": "execute_result"
    }
   ],
   "source": [
    "from sklearn.metrics import mean_squared_error\n",
    "from sklearn.metrics import mean_absolute_error\n",
    "from sklearn.metrics import r2_score\n",
    "mse= mean_squared_error(y, y_preds_2)\n",
    "rmse= r2_score(y, y_preds_2)\n",
    "mae = mean_absolute_error(y,y_preds_2)\n",
    "\n",
    "mse,rmse,mae"
   ]
  },
  {
   "cell_type": "code",
   "execution_count": 24,
   "metadata": {},
   "outputs": [
    {
     "data": {
      "image/png": "[encoded data removed]",
      "text/plain": [
       "<Figure size 720x432 with 1 Axes>"
      ]
     },
     "metadata": {
      "needs_background": "light"
     },
     "output_type": "display_data"
    }
   ],
   "source": [
    "model_score = {'Ridge Regression':68.7037,\n",
    "               'Linear Regression':68.7037,\n",
    "               'XG Boost':68.7037,\n",
    "               'Random Forest Regression':90.5464,\n",
    "               'Gradient Boosting':99.9822}\n",
    "\n",
    "model_compare = pd.DataFrame(model_score, index=[\"Accuracy\"])\n",
    "ax = model_compare.T.plot.bar(color=\"pink\", figsize=(10,6));\n",
    "plt.bar_label(ax.containers[0])\n",
    "plt.xticks(rotation=0);"
   ]
  },
  {
   "cell_type": "code",
   "execution_count": null,
   "metadata": {},
   "outputs": [],
   "source": []
  }
 ],
 "metadata": {
  "kernelspec": {
   "display_name": "Jupyter_env",
   "language": "python",
   "name": "python3"
  },
  "language_info": {
   "codemirror_mode": {
    "name": "ipython",
    "version": 3
   },
   "file_extension": ".py",
   "mimetype": "text/x-python",
   "name": "python",
   "nbconvert_exporter": "python",
   "pygments_lexer": "ipython3",
   "version": "3.9.12"
  },
  "orig_nbformat": 4
 },
 "nbformat": 4,
 "nbformat_minor": 2
}
